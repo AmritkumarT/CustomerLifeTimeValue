{
  "nbformat": 4,
  "nbformat_minor": 0,
  "metadata": {
    "colab": {
      "name": "CLTV.ipynb",
      "provenance": [],
      "collapsed_sections": []
    },
    "kernelspec": {
      "name": "python3",
      "display_name": "Python 3"
    },
    "accelerator": "GPU"
  },
  "cells": [
    {
      "cell_type": "markdown",
      "metadata": {
        "id": "Ctc-u6rKkFjB"
      },
      "source": [
        "#Customer Lifetime Value(CLTV)\n",
        "\"Customer Lifetime Value is a monetary value that represents the amount of revenue or profit a customer will give the company over the period of the relationship\" (Source). CLTV demonstrates the implications of acquiring long-term customers compare to short-term customers. Customer lifetime value (CLV) can help us to answers the most important questions about sales to every company: \n",
        "- How to Identify the most profitable customers?\n",
        "- How can a company offer the best product and make the most money?\n",
        "- How to segment profitable customers?\n",
        "- How much budget need to spend to acquire customers?\n",
        "##Calculate Customer Lifetime Value\n",
        "There are lots of approaches available for calculating CLTV. Everyone has their own view on it. \n",
        "- We can compute it by adding profit/revenue from customers in a given cycle. For Example, if the customer is associated with the business for the last 3 years, we can sum all the profit in this 3 years. We can average the profit yearly or half-yearly or monthly, but in this approach, we won's be able to build a predictive model for new customers.\n",
        "- Build a regression model for existing customers. Take recent six-month data as independent variables and total revenue over three years as a dependent variable and build a regression model on this data.\n",
        "- CLTV can also implement using RFM(Recency, Frequency, Monetary) values. For more details, you can refer to my tutorial.\n",
        "- Using the following equation: CLTV = ((Average Order Value x Purchase Frequency)/Churn Rate) x Profit margin.\n",
        "    -  Customer Value = Average Order Value * Purchase Frequency\n",
        "    - Average Order Value(AOV) = Total Revenue / Total Number of Orders. AOV represents the mean amount of revenue that the customer spends on an order.\n",
        "    - Purchase Frequency =  Total Number of Orders / Total Number of Customers. It represents the average number of orders placed by each customer.\n",
        "    - Churn Rate: Churn Rate is the percentage of customers who have not ordered again.\n",
        "    - Customer Lifetime = 1/ churn rate\n",
        "    - Churn Rate= 1-Repeat Rate"
      ]
    },
    {
      "cell_type": "code",
      "metadata": {
        "id": "3fVEUMLPlzfw"
      },
      "source": [
        "import pandas as pd # for dataframes\n",
        "import matplotlib.pyplot as plt # for plotting graphs\n",
        "import seaborn as sns # for plotting graphs\n",
        "import datetime as dt\n",
        "import numpy as np"
      ],
      "execution_count": null,
      "outputs": []
    },
    {
      "cell_type": "code",
      "metadata": {
        "id": "VGBKatdTmny1",
        "outputId": "72f6a04e-ce6d-4cf4-da59-6dc8090d1f36",
        "colab": {
          "resources": {
            "http://localhost:8080/nbextensions/google.colab/files.js": {
              "data": "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",
              "ok": true,
              "headers": [
                [
                  "content-type",
                  "application/javascript"
                ]
              ],
              "status": 200,
              "status_text": ""
            }
          },
          "base_uri": "https://localhost:8080/",
          "height": 74
        }
      },
      "source": [
        "from google.colab import files\n",
        "uploaded = files.upload()"
      ],
      "execution_count": null,
      "outputs": [
        {
          "output_type": "display_data",
          "data": {
            "text/html": [
              "\n",
              "     <input type=\"file\" id=\"files-4d9c9faa-8205-4db3-b165-7a63e5c8d1fd\" name=\"files[]\" multiple disabled />\n",
              "     <output id=\"result-4d9c9faa-8205-4db3-b165-7a63e5c8d1fd\">\n",
              "      Upload widget is only available when the cell has been executed in the\n",
              "      current browser session. Please rerun this cell to enable.\n",
              "      </output>\n",
              "      <script src=\"/nbextensions/google.colab/files.js\"></script> "
            ],
            "text/plain": [
              "<IPython.core.display.HTML object>"
            ]
          },
          "metadata": {
            "tags": []
          }
        },
        {
          "output_type": "stream",
          "text": [
            "Saving Online Retail.xlsx to Online Retail.xlsx\n"
          ],
          "name": "stdout"
        }
      ]
    },
    {
      "cell_type": "code",
      "metadata": {
        "id": "Zzk0jcpMmB5K",
        "outputId": "912e2d45-f52e-4e67-8b3e-e06b8a283531",
        "colab": {
          "base_uri": "https://localhost:8080/",
          "height": 195
        }
      },
      "source": [
        "data = pd.read_excel(\"Online Retail.xlsx\")\n",
        "data.head()"
      ],
      "execution_count": null,
      "outputs": [
        {
          "output_type": "execute_result",
          "data": {
            "text/html": [
              "<div>\n",
              "<style scoped>\n",
              "    .dataframe tbody tr th:only-of-type {\n",
              "        vertical-align: middle;\n",
              "    }\n",
              "\n",
              "    .dataframe tbody tr th {\n",
              "        vertical-align: top;\n",
              "    }\n",
              "\n",
              "    .dataframe thead th {\n",
              "        text-align: right;\n",
              "    }\n",
              "</style>\n",
              "<table border=\"1\" class=\"dataframe\">\n",
              "  <thead>\n",
              "    <tr style=\"text-align: right;\">\n",
              "      <th></th>\n",
              "      <th>InvoiceNo</th>\n",
              "      <th>StockCode</th>\n",
              "      <th>Description</th>\n",
              "      <th>Quantity</th>\n",
              "      <th>InvoiceDate</th>\n",
              "      <th>UnitPrice</th>\n",
              "      <th>CustomerID</th>\n",
              "      <th>Country</th>\n",
              "    </tr>\n",
              "  </thead>\n",
              "  <tbody>\n",
              "    <tr>\n",
              "      <th>0</th>\n",
              "      <td>536365</td>\n",
              "      <td>85123A</td>\n",
              "      <td>WHITE HANGING HEART T-LIGHT HOLDER</td>\n",
              "      <td>6</td>\n",
              "      <td>2010-12-01 08:26:00</td>\n",
              "      <td>2.55</td>\n",
              "      <td>17850.0</td>\n",
              "      <td>United Kingdom</td>\n",
              "    </tr>\n",
              "    <tr>\n",
              "      <th>1</th>\n",
              "      <td>536365</td>\n",
              "      <td>71053</td>\n",
              "      <td>WHITE METAL LANTERN</td>\n",
              "      <td>6</td>\n",
              "      <td>2010-12-01 08:26:00</td>\n",
              "      <td>3.39</td>\n",
              "      <td>17850.0</td>\n",
              "      <td>United Kingdom</td>\n",
              "    </tr>\n",
              "    <tr>\n",
              "      <th>2</th>\n",
              "      <td>536365</td>\n",
              "      <td>84406B</td>\n",
              "      <td>CREAM CUPID HEARTS COAT HANGER</td>\n",
              "      <td>8</td>\n",
              "      <td>2010-12-01 08:26:00</td>\n",
              "      <td>2.75</td>\n",
              "      <td>17850.0</td>\n",
              "      <td>United Kingdom</td>\n",
              "    </tr>\n",
              "    <tr>\n",
              "      <th>3</th>\n",
              "      <td>536365</td>\n",
              "      <td>84029G</td>\n",
              "      <td>KNITTED UNION FLAG HOT WATER BOTTLE</td>\n",
              "      <td>6</td>\n",
              "      <td>2010-12-01 08:26:00</td>\n",
              "      <td>3.39</td>\n",
              "      <td>17850.0</td>\n",
              "      <td>United Kingdom</td>\n",
              "    </tr>\n",
              "    <tr>\n",
              "      <th>4</th>\n",
              "      <td>536365</td>\n",
              "      <td>84029E</td>\n",
              "      <td>RED WOOLLY HOTTIE WHITE HEART.</td>\n",
              "      <td>6</td>\n",
              "      <td>2010-12-01 08:26:00</td>\n",
              "      <td>3.39</td>\n",
              "      <td>17850.0</td>\n",
              "      <td>United Kingdom</td>\n",
              "    </tr>\n",
              "  </tbody>\n",
              "</table>\n",
              "</div>"
            ],
            "text/plain": [
              "  InvoiceNo StockCode  ... CustomerID         Country\n",
              "0    536365    85123A  ...    17850.0  United Kingdom\n",
              "1    536365     71053  ...    17850.0  United Kingdom\n",
              "2    536365    84406B  ...    17850.0  United Kingdom\n",
              "3    536365    84029G  ...    17850.0  United Kingdom\n",
              "4    536365    84029E  ...    17850.0  United Kingdom\n",
              "\n",
              "[5 rows x 8 columns]"
            ]
          },
          "metadata": {
            "tags": []
          },
          "execution_count": 5
        }
      ]
    },
    {
      "cell_type": "markdown",
      "metadata": {
        "id": "lHXWEoCmo_RJ"
      },
      "source": [
        "Removing Duplicates\n",
        "Sometimes we get a messy dataset. we may have to deal with duplicates, which will skew your analysis. "
      ]
    },
    {
      "cell_type": "code",
      "metadata": {
        "id": "wQ_3EfPIpDkT"
      },
      "source": [
        "filtered_data=data[['Country','CustomerID']].drop_duplicates()"
      ],
      "execution_count": null,
      "outputs": []
    },
    {
      "cell_type": "markdown",
      "metadata": {
        "id": "6bvMnL8FpIF1"
      },
      "source": [
        "Let's Jump into Data Insights"
      ]
    },
    {
      "cell_type": "code",
      "metadata": {
        "id": "l3iTJIFNpMAg",
        "outputId": "339ba15c-6a24-4b8e-c4b7-65fcfe837a05",
        "colab": {
          "base_uri": "https://localhost:8080/",
          "height": 339
        }
      },
      "source": [
        "#Top ten country's customer\n",
        "filtered_data.Country.value_counts()[:10].plot(kind='bar')\n",
        "plt.show()"
      ],
      "execution_count": null,
      "outputs": [
        {
          "output_type": "display_data",
          "data": {
            "image/png": "[encoded data removed]",
            "text/plain": [
              "<Figure size 432x288 with 1 Axes>"
            ]
          },
          "metadata": {
            "tags": []
          }
        }
      ]
    },
    {
      "cell_type": "markdown",
      "metadata": {
        "id": "fk7eiGfnpRhp"
      },
      "source": [
        "In the given dataset, we can observe most of the customers are from \"United Kingdom\". So, we can filter data for United Kingdom customer."
      ]
    },
    {
      "cell_type": "code",
      "metadata": {
        "id": "YUdyCqR9pVYp",
        "outputId": "5a9b5ec7-7f2f-44a4-b766-5136fefebd0e",
        "colab": {
          "base_uri": "https://localhost:8080/",
          "height": 235
        }
      },
      "source": [
        "uk_data=data[data.Country=='United Kingdom']\n",
        "uk_data.info()"
      ],
      "execution_count": null,
      "outputs": [
        {
          "output_type": "stream",
          "text": [
            "<class 'pandas.core.frame.DataFrame'>\n",
            "Int64Index: 495478 entries, 0 to 541893\n",
            "Data columns (total 8 columns):\n",
            "InvoiceNo      495478 non-null object\n",
            "StockCode      495478 non-null object\n",
            "Description    494024 non-null object\n",
            "Quantity       495478 non-null int64\n",
            "InvoiceDate    495478 non-null datetime64[ns]\n",
            "UnitPrice      495478 non-null float64\n",
            "CustomerID     361878 non-null float64\n",
            "Country        495478 non-null object\n",
            "dtypes: datetime64[ns](1), float64(2), int64(1), object(4)\n",
            "memory usage: 34.0+ MB\n"
          ],
          "name": "stdout"
        }
      ]
    },
    {
      "cell_type": "markdown",
      "metadata": {
        "id": "EKR0GG4dpaJE"
      },
      "source": [
        "#### Descriptive statistic"
      ]
    },
    {
      "cell_type": "code",
      "metadata": {
        "id": "chu9Sw-UpdGS",
        "outputId": "68b2938d-4ec0-4b6c-8094-ab3e3f6b4b7d",
        "colab": {
          "base_uri": "https://localhost:8080/",
          "height": 284
        }
      },
      "source": [
        "uk_data.describe()"
      ],
      "execution_count": null,
      "outputs": [
        {
          "output_type": "execute_result",
          "data": {
            "text/html": [
              "<div>\n",
              "<style scoped>\n",
              "    .dataframe tbody tr th:only-of-type {\n",
              "        vertical-align: middle;\n",
              "    }\n",
              "\n",
              "    .dataframe tbody tr th {\n",
              "        vertical-align: top;\n",
              "    }\n",
              "\n",
              "    .dataframe thead th {\n",
              "        text-align: right;\n",
              "    }\n",
              "</style>\n",
              "<table border=\"1\" class=\"dataframe\">\n",
              "  <thead>\n",
              "    <tr style=\"text-align: right;\">\n",
              "      <th></th>\n",
              "      <th>Quantity</th>\n",
              "      <th>UnitPrice</th>\n",
              "      <th>CustomerID</th>\n",
              "    </tr>\n",
              "  </thead>\n",
              "  <tbody>\n",
              "    <tr>\n",
              "      <th>count</th>\n",
              "      <td>495478.000000</td>\n",
              "      <td>495478.000000</td>\n",
              "      <td>361878.000000</td>\n",
              "    </tr>\n",
              "    <tr>\n",
              "      <th>mean</th>\n",
              "      <td>8.605486</td>\n",
              "      <td>4.532422</td>\n",
              "      <td>15547.871368</td>\n",
              "    </tr>\n",
              "    <tr>\n",
              "      <th>std</th>\n",
              "      <td>227.588756</td>\n",
              "      <td>99.315438</td>\n",
              "      <td>1594.402590</td>\n",
              "    </tr>\n",
              "    <tr>\n",
              "      <th>min</th>\n",
              "      <td>-80995.000000</td>\n",
              "      <td>-11062.060000</td>\n",
              "      <td>12346.000000</td>\n",
              "    </tr>\n",
              "    <tr>\n",
              "      <th>25%</th>\n",
              "      <td>1.000000</td>\n",
              "      <td>1.250000</td>\n",
              "      <td>14194.000000</td>\n",
              "    </tr>\n",
              "    <tr>\n",
              "      <th>50%</th>\n",
              "      <td>3.000000</td>\n",
              "      <td>2.100000</td>\n",
              "      <td>15514.000000</td>\n",
              "    </tr>\n",
              "    <tr>\n",
              "      <th>75%</th>\n",
              "      <td>10.000000</td>\n",
              "      <td>4.130000</td>\n",
              "      <td>16931.000000</td>\n",
              "    </tr>\n",
              "    <tr>\n",
              "      <th>max</th>\n",
              "      <td>80995.000000</td>\n",
              "      <td>38970.000000</td>\n",
              "      <td>18287.000000</td>\n",
              "    </tr>\n",
              "  </tbody>\n",
              "</table>\n",
              "</div>"
            ],
            "text/plain": [
              "            Quantity      UnitPrice     CustomerID\n",
              "count  495478.000000  495478.000000  361878.000000\n",
              "mean        8.605486       4.532422   15547.871368\n",
              "std       227.588756      99.315438    1594.402590\n",
              "min    -80995.000000  -11062.060000   12346.000000\n",
              "25%         1.000000       1.250000   14194.000000\n",
              "50%         3.000000       2.100000   15514.000000\n",
              "75%        10.000000       4.130000   16931.000000\n",
              "max     80995.000000   38970.000000   18287.000000"
            ]
          },
          "metadata": {
            "tags": []
          },
          "execution_count": 11
        }
      ]
    },
    {
      "cell_type": "markdown",
      "metadata": {
        "id": "JsTG-6LsphLF"
      },
      "source": [
        "Here, we can observe some of the customers have ordered in a negative quantity, which is not possible. So, we need to filter Quantity greater than zero."
      ]
    },
    {
      "cell_type": "code",
      "metadata": {
        "id": "ELD6R94rpkNd",
        "outputId": "dfad2436-b54e-4157-cb82-e8ee6aa739fd",
        "colab": {
          "base_uri": "https://localhost:8080/",
          "height": 235
        }
      },
      "source": [
        "uk_data = uk_data[(uk_data['Quantity']>0)]\n",
        "uk_data.info()"
      ],
      "execution_count": null,
      "outputs": [
        {
          "output_type": "stream",
          "text": [
            "<class 'pandas.core.frame.DataFrame'>\n",
            "Int64Index: 486286 entries, 0 to 541893\n",
            "Data columns (total 8 columns):\n",
            "InvoiceNo      486286 non-null object\n",
            "StockCode      486286 non-null object\n",
            "Description    485694 non-null object\n",
            "Quantity       486286 non-null int64\n",
            "InvoiceDate    486286 non-null datetime64[ns]\n",
            "UnitPrice      486286 non-null float64\n",
            "CustomerID     354345 non-null float64\n",
            "Country        486286 non-null object\n",
            "dtypes: datetime64[ns](1), float64(2), int64(1), object(4)\n",
            "memory usage: 33.4+ MB\n"
          ],
          "name": "stdout"
        }
      ]
    },
    {
      "cell_type": "markdown",
      "metadata": {
        "id": "EMZ-uKTFpsls"
      },
      "source": [
        "#### Filter required Columns\n",
        "Here, we can filter the necessary columns for calculating CLTV. We only need here five columns CustomerID, InvoiceDate, InvoiceNo, Quantity, and UnitPrice.\n",
        " - CustomerID will uniquely define our customers.\n",
        " - InvoiceDate help us calculate numbers of days customer stayed with your product.\n",
        " - InvoiceNo helps us to count the number of time transaction performed(frequency).\n",
        " - Quantity is purchased item units in each transaction\n",
        " - UnitPrice of each unit purchased by the customer will help us to calculate the total purchased amount."
      ]
    },
    {
      "cell_type": "code",
      "metadata": {
        "id": "ADPmkt2UprsO"
      },
      "source": [
        "uk_data=uk_data[['CustomerID','InvoiceDate','InvoiceNo','Quantity','UnitPrice']]\n",
        "\n",
        "#Calulate total purchase\n",
        "uk_data['TotalPurchase'] = uk_data['Quantity'] * uk_data['UnitPrice']"
      ],
      "execution_count": null,
      "outputs": []
    },
    {
      "cell_type": "markdown",
      "metadata": {
        "id": "_MBHWOF5qCl5"
      },
      "source": [
        "Here, we are going to perform the following operations:\n",
        "- Calculate the number of days between the present date and the date of last purchase from each customer.\n",
        "- Calculate the number of orders for each customer.\n",
        "- Calculate sum of purchase price for each customer."
      ]
    },
    {
      "cell_type": "code",
      "metadata": {
        "id": "L71o5OUfqJNJ",
        "outputId": "66e0ce56-02ae-4ea4-d7c1-b96e6ad0c164",
        "colab": {
          "base_uri": "https://localhost:8080/",
          "height": 225
        }
      },
      "source": [
        "uk_data_group=uk_data.groupby('CustomerID').agg({'InvoiceDate': lambda date: (date.max() - date.min()).days,\n",
        "                                        'InvoiceNo': lambda num: len(num),\n",
        "                                        'Quantity': lambda quant: quant.sum(),\n",
        "                                        'TotalPurchase': lambda price: price.sum()})\n",
        "\n",
        "uk_data_group.head()"
      ],
      "execution_count": null,
      "outputs": [
        {
          "output_type": "execute_result",
          "data": {
            "text/html": [
              "<div>\n",
              "<style scoped>\n",
              "    .dataframe tbody tr th:only-of-type {\n",
              "        vertical-align: middle;\n",
              "    }\n",
              "\n",
              "    .dataframe tbody tr th {\n",
              "        vertical-align: top;\n",
              "    }\n",
              "\n",
              "    .dataframe thead th {\n",
              "        text-align: right;\n",
              "    }\n",
              "</style>\n",
              "<table border=\"1\" class=\"dataframe\">\n",
              "  <thead>\n",
              "    <tr style=\"text-align: right;\">\n",
              "      <th></th>\n",
              "      <th>InvoiceDate</th>\n",
              "      <th>InvoiceNo</th>\n",
              "      <th>Quantity</th>\n",
              "      <th>TotalPurchase</th>\n",
              "    </tr>\n",
              "    <tr>\n",
              "      <th>CustomerID</th>\n",
              "      <th></th>\n",
              "      <th></th>\n",
              "      <th></th>\n",
              "      <th></th>\n",
              "    </tr>\n",
              "  </thead>\n",
              "  <tbody>\n",
              "    <tr>\n",
              "      <th>12346.0</th>\n",
              "      <td>0</td>\n",
              "      <td>1</td>\n",
              "      <td>74215</td>\n",
              "      <td>77183.60</td>\n",
              "    </tr>\n",
              "    <tr>\n",
              "      <th>12747.0</th>\n",
              "      <td>366</td>\n",
              "      <td>103</td>\n",
              "      <td>1275</td>\n",
              "      <td>4196.01</td>\n",
              "    </tr>\n",
              "    <tr>\n",
              "      <th>12748.0</th>\n",
              "      <td>372</td>\n",
              "      <td>4596</td>\n",
              "      <td>25748</td>\n",
              "      <td>33719.73</td>\n",
              "    </tr>\n",
              "    <tr>\n",
              "      <th>12749.0</th>\n",
              "      <td>209</td>\n",
              "      <td>199</td>\n",
              "      <td>1471</td>\n",
              "      <td>4090.88</td>\n",
              "    </tr>\n",
              "    <tr>\n",
              "      <th>12820.0</th>\n",
              "      <td>323</td>\n",
              "      <td>59</td>\n",
              "      <td>722</td>\n",
              "      <td>942.34</td>\n",
              "    </tr>\n",
              "  </tbody>\n",
              "</table>\n",
              "</div>"
            ],
            "text/plain": [
              "            InvoiceDate  InvoiceNo  Quantity  TotalPurchase\n",
              "CustomerID                                                 \n",
              "12346.0               0          1     74215       77183.60\n",
              "12747.0             366        103      1275        4196.01\n",
              "12748.0             372       4596     25748       33719.73\n",
              "12749.0             209        199      1471        4090.88\n",
              "12820.0             323         59       722         942.34"
            ]
          },
          "metadata": {
            "tags": []
          },
          "execution_count": 14
        }
      ]
    },
    {
      "cell_type": "markdown",
      "metadata": {
        "id": "fGmoT_w9qSMx"
      },
      "source": [
        "Renaming the column"
      ]
    },
    {
      "cell_type": "code",
      "metadata": {
        "id": "KwyZKmJOqTXB",
        "outputId": "ef0fcf12-cec6-48c2-e332-c292cb4e8d35",
        "colab": {
          "base_uri": "https://localhost:8080/",
          "height": 225
        }
      },
      "source": [
        "# Change the name of columns\n",
        "uk_data_group.columns=['num_days','num_transactions','num_units','spent_money']\n",
        "uk_data_group.head()"
      ],
      "execution_count": null,
      "outputs": [
        {
          "output_type": "execute_result",
          "data": {
            "text/html": [
              "<div>\n",
              "<style scoped>\n",
              "    .dataframe tbody tr th:only-of-type {\n",
              "        vertical-align: middle;\n",
              "    }\n",
              "\n",
              "    .dataframe tbody tr th {\n",
              "        vertical-align: top;\n",
              "    }\n",
              "\n",
              "    .dataframe thead th {\n",
              "        text-align: right;\n",
              "    }\n",
              "</style>\n",
              "<table border=\"1\" class=\"dataframe\">\n",
              "  <thead>\n",
              "    <tr style=\"text-align: right;\">\n",
              "      <th></th>\n",
              "      <th>num_days</th>\n",
              "      <th>num_transactions</th>\n",
              "      <th>num_units</th>\n",
              "      <th>spent_money</th>\n",
              "    </tr>\n",
              "    <tr>\n",
              "      <th>CustomerID</th>\n",
              "      <th></th>\n",
              "      <th></th>\n",
              "      <th></th>\n",
              "      <th></th>\n",
              "    </tr>\n",
              "  </thead>\n",
              "  <tbody>\n",
              "    <tr>\n",
              "      <th>12346.0</th>\n",
              "      <td>0</td>\n",
              "      <td>1</td>\n",
              "      <td>74215</td>\n",
              "      <td>77183.60</td>\n",
              "    </tr>\n",
              "    <tr>\n",
              "      <th>12747.0</th>\n",
              "      <td>366</td>\n",
              "      <td>103</td>\n",
              "      <td>1275</td>\n",
              "      <td>4196.01</td>\n",
              "    </tr>\n",
              "    <tr>\n",
              "      <th>12748.0</th>\n",
              "      <td>372</td>\n",
              "      <td>4596</td>\n",
              "      <td>25748</td>\n",
              "      <td>33719.73</td>\n",
              "    </tr>\n",
              "    <tr>\n",
              "      <th>12749.0</th>\n",
              "      <td>209</td>\n",
              "      <td>199</td>\n",
              "      <td>1471</td>\n",
              "      <td>4090.88</td>\n",
              "    </tr>\n",
              "    <tr>\n",
              "      <th>12820.0</th>\n",
              "      <td>323</td>\n",
              "      <td>59</td>\n",
              "      <td>722</td>\n",
              "      <td>942.34</td>\n",
              "    </tr>\n",
              "  </tbody>\n",
              "</table>\n",
              "</div>"
            ],
            "text/plain": [
              "            num_days  num_transactions  num_units  spent_money\n",
              "CustomerID                                                    \n",
              "12346.0            0                 1      74215     77183.60\n",
              "12747.0          366               103       1275      4196.01\n",
              "12748.0          372              4596      25748     33719.73\n",
              "12749.0          209               199       1471      4090.88\n",
              "12820.0          323                59        722       942.34"
            ]
          },
          "metadata": {
            "tags": []
          },
          "execution_count": 15
        }
      ]
    },
    {
      "cell_type": "markdown",
      "metadata": {
        "id": "XVbkNEAeqbd5"
      },
      "source": [
        "## Calculate CLTV using following formula:\n",
        "CLTV = ((Average Order Value x Purchase Frequency)/Churn Rate) x Profit margin.\n",
        "\n",
        "Customer Value = Average Order Value * Purchase Frequency"
      ]
    },
    {
      "cell_type": "code",
      "metadata": {
        "id": "JIcZklOJqe-e",
        "outputId": "d827e964-6ef7-4781-aba1-ee59afe98888",
        "colab": {
          "base_uri": "https://localhost:8080/",
          "height": 225
        }
      },
      "source": [
        "# Average Order Value\n",
        "uk_data_group['avg_order_value']=uk_data_group['spent_money']/uk_data_group['num_transactions']\n",
        "uk_data_group.head()"
      ],
      "execution_count": null,
      "outputs": [
        {
          "output_type": "execute_result",
          "data": {
            "text/html": [
              "<div>\n",
              "<style scoped>\n",
              "    .dataframe tbody tr th:only-of-type {\n",
              "        vertical-align: middle;\n",
              "    }\n",
              "\n",
              "    .dataframe tbody tr th {\n",
              "        vertical-align: top;\n",
              "    }\n",
              "\n",
              "    .dataframe thead th {\n",
              "        text-align: right;\n",
              "    }\n",
              "</style>\n",
              "<table border=\"1\" class=\"dataframe\">\n",
              "  <thead>\n",
              "    <tr style=\"text-align: right;\">\n",
              "      <th></th>\n",
              "      <th>num_days</th>\n",
              "      <th>num_transactions</th>\n",
              "      <th>num_units</th>\n",
              "      <th>spent_money</th>\n",
              "      <th>avg_order_value</th>\n",
              "    </tr>\n",
              "    <tr>\n",
              "      <th>CustomerID</th>\n",
              "      <th></th>\n",
              "      <th></th>\n",
              "      <th></th>\n",
              "      <th></th>\n",
              "      <th></th>\n",
              "    </tr>\n",
              "  </thead>\n",
              "  <tbody>\n",
              "    <tr>\n",
              "      <th>12346.0</th>\n",
              "      <td>0</td>\n",
              "      <td>1</td>\n",
              "      <td>74215</td>\n",
              "      <td>77183.60</td>\n",
              "      <td>77183.600000</td>\n",
              "    </tr>\n",
              "    <tr>\n",
              "      <th>12747.0</th>\n",
              "      <td>366</td>\n",
              "      <td>103</td>\n",
              "      <td>1275</td>\n",
              "      <td>4196.01</td>\n",
              "      <td>40.737961</td>\n",
              "    </tr>\n",
              "    <tr>\n",
              "      <th>12748.0</th>\n",
              "      <td>372</td>\n",
              "      <td>4596</td>\n",
              "      <td>25748</td>\n",
              "      <td>33719.73</td>\n",
              "      <td>7.336756</td>\n",
              "    </tr>\n",
              "    <tr>\n",
              "      <th>12749.0</th>\n",
              "      <td>209</td>\n",
              "      <td>199</td>\n",
              "      <td>1471</td>\n",
              "      <td>4090.88</td>\n",
              "      <td>20.557186</td>\n",
              "    </tr>\n",
              "    <tr>\n",
              "      <th>12820.0</th>\n",
              "      <td>323</td>\n",
              "      <td>59</td>\n",
              "      <td>722</td>\n",
              "      <td>942.34</td>\n",
              "      <td>15.971864</td>\n",
              "    </tr>\n",
              "  </tbody>\n",
              "</table>\n",
              "</div>"
            ],
            "text/plain": [
              "            num_days  num_transactions  num_units  spent_money  avg_order_value\n",
              "CustomerID                                                                     \n",
              "12346.0            0                 1      74215     77183.60     77183.600000\n",
              "12747.0          366               103       1275      4196.01        40.737961\n",
              "12748.0          372              4596      25748     33719.73         7.336756\n",
              "12749.0          209               199       1471      4090.88        20.557186\n",
              "12820.0          323                59        722       942.34        15.971864"
            ]
          },
          "metadata": {
            "tags": []
          },
          "execution_count": 12
        }
      ]
    },
    {
      "cell_type": "markdown",
      "metadata": {
        "id": "6O4QibYcq7kk"
      },
      "source": [
        "##  Calculate Purchase Frequency"
      ]
    },
    {
      "cell_type": "code",
      "metadata": {
        "id": "Ebmvntd9rBPX"
      },
      "source": [
        "purchase_frequency=sum(uk_data_group['num_transactions'])/uk_data_group.shape[0]"
      ],
      "execution_count": null,
      "outputs": []
    },
    {
      "cell_type": "markdown",
      "metadata": {
        "id": "_3SmfdGGrHpG"
      },
      "source": [
        "## Calculate Repeat Rate and Churn Rate"
      ]
    },
    {
      "cell_type": "code",
      "metadata": {
        "id": "w-PSxONxrGgh",
        "outputId": "6f973314-46ef-47a8-f7c8-e8c85d130f78",
        "colab": {
          "base_uri": "https://localhost:8080/",
          "height": 34
        }
      },
      "source": [
        "# Repeat Rate\n",
        "repeat_rate=uk_data_group[uk_data_group.num_transactions > 1].shape[0]/uk_data_group.shape[0]\n",
        "#Churn Rate\n",
        "churn_rate=1-repeat_rate\n",
        "purchase_frequency,repeat_rate,churn_rate"
      ],
      "execution_count": null,
      "outputs": [
        {
          "output_type": "execute_result",
          "data": {
            "text/plain": [
              "(90.37107880642694, 0.9818923743942872, 0.018107625605712774)"
            ]
          },
          "metadata": {
            "tags": []
          },
          "execution_count": 14
        }
      ]
    },
    {
      "cell_type": "markdown",
      "metadata": {
        "id": "kTjTIweNrXnL"
      },
      "source": [
        "## Calculate Profit Margin\n",
        "Profit margin is the commonly used profitability ratio. It represents how much percentage of total sales has earned as the gain. Let's assume our business has approx 5% profit on the total sale."
      ]
    },
    {
      "cell_type": "code",
      "metadata": {
        "id": "5ClQC7uTrZp_",
        "outputId": "11d6794e-ada2-4250-8c15-837f9702a408",
        "colab": {
          "base_uri": "https://localhost:8080/",
          "height": 225
        }
      },
      "source": [
        "# Profit Margin\n",
        "uk_data_group['profit_margin']=uk_data_group['spent_money']*0.05\n",
        "uk_data_group.head()"
      ],
      "execution_count": null,
      "outputs": [
        {
          "output_type": "execute_result",
          "data": {
            "text/html": [
              "<div>\n",
              "<style scoped>\n",
              "    .dataframe tbody tr th:only-of-type {\n",
              "        vertical-align: middle;\n",
              "    }\n",
              "\n",
              "    .dataframe tbody tr th {\n",
              "        vertical-align: top;\n",
              "    }\n",
              "\n",
              "    .dataframe thead th {\n",
              "        text-align: right;\n",
              "    }\n",
              "</style>\n",
              "<table border=\"1\" class=\"dataframe\">\n",
              "  <thead>\n",
              "    <tr style=\"text-align: right;\">\n",
              "      <th></th>\n",
              "      <th>num_days</th>\n",
              "      <th>num_transactions</th>\n",
              "      <th>num_units</th>\n",
              "      <th>spent_money</th>\n",
              "      <th>avg_order_value</th>\n",
              "      <th>profit_margin</th>\n",
              "    </tr>\n",
              "    <tr>\n",
              "      <th>CustomerID</th>\n",
              "      <th></th>\n",
              "      <th></th>\n",
              "      <th></th>\n",
              "      <th></th>\n",
              "      <th></th>\n",
              "      <th></th>\n",
              "    </tr>\n",
              "  </thead>\n",
              "  <tbody>\n",
              "    <tr>\n",
              "      <th>12346.0</th>\n",
              "      <td>0</td>\n",
              "      <td>1</td>\n",
              "      <td>74215</td>\n",
              "      <td>77183.60</td>\n",
              "      <td>77183.600000</td>\n",
              "      <td>3859.1800</td>\n",
              "    </tr>\n",
              "    <tr>\n",
              "      <th>12747.0</th>\n",
              "      <td>366</td>\n",
              "      <td>103</td>\n",
              "      <td>1275</td>\n",
              "      <td>4196.01</td>\n",
              "      <td>40.737961</td>\n",
              "      <td>209.8005</td>\n",
              "    </tr>\n",
              "    <tr>\n",
              "      <th>12748.0</th>\n",
              "      <td>372</td>\n",
              "      <td>4596</td>\n",
              "      <td>25748</td>\n",
              "      <td>33719.73</td>\n",
              "      <td>7.336756</td>\n",
              "      <td>1685.9865</td>\n",
              "    </tr>\n",
              "    <tr>\n",
              "      <th>12749.0</th>\n",
              "      <td>209</td>\n",
              "      <td>199</td>\n",
              "      <td>1471</td>\n",
              "      <td>4090.88</td>\n",
              "      <td>20.557186</td>\n",
              "      <td>204.5440</td>\n",
              "    </tr>\n",
              "    <tr>\n",
              "      <th>12820.0</th>\n",
              "      <td>323</td>\n",
              "      <td>59</td>\n",
              "      <td>722</td>\n",
              "      <td>942.34</td>\n",
              "      <td>15.971864</td>\n",
              "      <td>47.1170</td>\n",
              "    </tr>\n",
              "  </tbody>\n",
              "</table>\n",
              "</div>"
            ],
            "text/plain": [
              "            num_days  num_transactions  ...  avg_order_value  profit_margin\n",
              "CustomerID                              ...                                \n",
              "12346.0            0                 1  ...     77183.600000      3859.1800\n",
              "12747.0          366               103  ...        40.737961       209.8005\n",
              "12748.0          372              4596  ...         7.336756      1685.9865\n",
              "12749.0          209               199  ...        20.557186       204.5440\n",
              "12820.0          323                59  ...        15.971864        47.1170\n",
              "\n",
              "[5 rows x 6 columns]"
            ]
          },
          "metadata": {
            "tags": []
          },
          "execution_count": 15
        }
      ]
    },
    {
      "cell_type": "markdown",
      "metadata": {
        "id": "ItBHVx99rjjA"
      },
      "source": [
        "## Calcualte Customer Lifetime Value"
      ]
    },
    {
      "cell_type": "code",
      "metadata": {
        "id": "eZpCidSwrm-F",
        "outputId": "b728460d-5502-4311-f722-796903dc923f",
        "colab": {
          "base_uri": "https://localhost:8080/",
          "height": 225
        }
      },
      "source": [
        "# Customer Value\n",
        "uk_data_group['CLV']=(uk_data_group['avg_order_value']*purchase_frequency)/churn_rate\n",
        "\n",
        "#Customer Lifetime Value\n",
        "uk_data_group['cust_lifetime_value']=uk_data_group['CLV']*uk_data_group['profit_margin']\n",
        "\n",
        "uk_data_group.head()"
      ],
      "execution_count": null,
      "outputs": [
        {
          "output_type": "execute_result",
          "data": {
            "text/html": [
              "<div>\n",
              "<style scoped>\n",
              "    .dataframe tbody tr th:only-of-type {\n",
              "        vertical-align: middle;\n",
              "    }\n",
              "\n",
              "    .dataframe tbody tr th {\n",
              "        vertical-align: top;\n",
              "    }\n",
              "\n",
              "    .dataframe thead th {\n",
              "        text-align: right;\n",
              "    }\n",
              "</style>\n",
              "<table border=\"1\" class=\"dataframe\">\n",
              "  <thead>\n",
              "    <tr style=\"text-align: right;\">\n",
              "      <th></th>\n",
              "      <th>num_days</th>\n",
              "      <th>num_transactions</th>\n",
              "      <th>num_units</th>\n",
              "      <th>spent_money</th>\n",
              "      <th>avg_order_value</th>\n",
              "      <th>profit_margin</th>\n",
              "      <th>CLV</th>\n",
              "      <th>cust_lifetime_value</th>\n",
              "    </tr>\n",
              "    <tr>\n",
              "      <th>CustomerID</th>\n",
              "      <th></th>\n",
              "      <th></th>\n",
              "      <th></th>\n",
              "      <th></th>\n",
              "      <th></th>\n",
              "      <th></th>\n",
              "      <th></th>\n",
              "      <th></th>\n",
              "    </tr>\n",
              "  </thead>\n",
              "  <tbody>\n",
              "    <tr>\n",
              "      <th>12346.0</th>\n",
              "      <td>0</td>\n",
              "      <td>1</td>\n",
              "      <td>74215</td>\n",
              "      <td>77183.60</td>\n",
              "      <td>77183.600000</td>\n",
              "      <td>3859.1800</td>\n",
              "      <td>3.852060e+08</td>\n",
              "      <td>1.486579e+12</td>\n",
              "    </tr>\n",
              "    <tr>\n",
              "      <th>12747.0</th>\n",
              "      <td>366</td>\n",
              "      <td>103</td>\n",
              "      <td>1275</td>\n",
              "      <td>4196.01</td>\n",
              "      <td>40.737961</td>\n",
              "      <td>209.8005</td>\n",
              "      <td>2.033140e+05</td>\n",
              "      <td>4.265538e+07</td>\n",
              "    </tr>\n",
              "    <tr>\n",
              "      <th>12748.0</th>\n",
              "      <td>372</td>\n",
              "      <td>4596</td>\n",
              "      <td>25748</td>\n",
              "      <td>33719.73</td>\n",
              "      <td>7.336756</td>\n",
              "      <td>1685.9865</td>\n",
              "      <td>3.661610e+04</td>\n",
              "      <td>6.173424e+07</td>\n",
              "    </tr>\n",
              "    <tr>\n",
              "      <th>12749.0</th>\n",
              "      <td>209</td>\n",
              "      <td>199</td>\n",
              "      <td>1471</td>\n",
              "      <td>4090.88</td>\n",
              "      <td>20.557186</td>\n",
              "      <td>204.5440</td>\n",
              "      <td>1.025963e+05</td>\n",
              "      <td>2.098545e+07</td>\n",
              "    </tr>\n",
              "    <tr>\n",
              "      <th>12820.0</th>\n",
              "      <td>323</td>\n",
              "      <td>59</td>\n",
              "      <td>722</td>\n",
              "      <td>942.34</td>\n",
              "      <td>15.971864</td>\n",
              "      <td>47.1170</td>\n",
              "      <td>7.971198e+04</td>\n",
              "      <td>3.755789e+06</td>\n",
              "    </tr>\n",
              "  </tbody>\n",
              "</table>\n",
              "</div>"
            ],
            "text/plain": [
              "            num_days  num_transactions  ...           CLV  cust_lifetime_value\n",
              "CustomerID                              ...                                   \n",
              "12346.0            0                 1  ...  3.852060e+08         1.486579e+12\n",
              "12747.0          366               103  ...  2.033140e+05         4.265538e+07\n",
              "12748.0          372              4596  ...  3.661610e+04         6.173424e+07\n",
              "12749.0          209               199  ...  1.025963e+05         2.098545e+07\n",
              "12820.0          323                59  ...  7.971198e+04         3.755789e+06\n",
              "\n",
              "[5 rows x 8 columns]"
            ]
          },
          "metadata": {
            "tags": []
          },
          "execution_count": 16
        }
      ]
    },
    {
      "cell_type": "markdown",
      "metadata": {
        "id": "LjFxDxvBr6Bv"
      },
      "source": [
        "# Prediction Model for CLTV\n",
        "Let's build the CLTV prediction model. \n",
        "Here, we are going to predict CLTV using Linear Regression Model.\n",
        "Let's first use the data loaded and filtered above."
      ]
    },
    {
      "cell_type": "code",
      "metadata": {
        "id": "yD7eYKHDsBvh",
        "outputId": "fcc411d0-228f-4140-c9b6-13e2649ef853",
        "colab": {
          "base_uri": "https://localhost:8080/",
          "height": 195
        }
      },
      "source": [
        "uk_data.head()"
      ],
      "execution_count": null,
      "outputs": [
        {
          "output_type": "execute_result",
          "data": {
            "text/html": [
              "<div>\n",
              "<style scoped>\n",
              "    .dataframe tbody tr th:only-of-type {\n",
              "        vertical-align: middle;\n",
              "    }\n",
              "\n",
              "    .dataframe tbody tr th {\n",
              "        vertical-align: top;\n",
              "    }\n",
              "\n",
              "    .dataframe thead th {\n",
              "        text-align: right;\n",
              "    }\n",
              "</style>\n",
              "<table border=\"1\" class=\"dataframe\">\n",
              "  <thead>\n",
              "    <tr style=\"text-align: right;\">\n",
              "      <th></th>\n",
              "      <th>CustomerID</th>\n",
              "      <th>InvoiceDate</th>\n",
              "      <th>InvoiceNo</th>\n",
              "      <th>Quantity</th>\n",
              "      <th>UnitPrice</th>\n",
              "      <th>TotalPurchase</th>\n",
              "    </tr>\n",
              "  </thead>\n",
              "  <tbody>\n",
              "    <tr>\n",
              "      <th>0</th>\n",
              "      <td>17850.0</td>\n",
              "      <td>2010-12-01 08:26:00</td>\n",
              "      <td>536365</td>\n",
              "      <td>6</td>\n",
              "      <td>2.55</td>\n",
              "      <td>15.30</td>\n",
              "    </tr>\n",
              "    <tr>\n",
              "      <th>1</th>\n",
              "      <td>17850.0</td>\n",
              "      <td>2010-12-01 08:26:00</td>\n",
              "      <td>536365</td>\n",
              "      <td>6</td>\n",
              "      <td>3.39</td>\n",
              "      <td>20.34</td>\n",
              "    </tr>\n",
              "    <tr>\n",
              "      <th>2</th>\n",
              "      <td>17850.0</td>\n",
              "      <td>2010-12-01 08:26:00</td>\n",
              "      <td>536365</td>\n",
              "      <td>8</td>\n",
              "      <td>2.75</td>\n",
              "      <td>22.00</td>\n",
              "    </tr>\n",
              "    <tr>\n",
              "      <th>3</th>\n",
              "      <td>17850.0</td>\n",
              "      <td>2010-12-01 08:26:00</td>\n",
              "      <td>536365</td>\n",
              "      <td>6</td>\n",
              "      <td>3.39</td>\n",
              "      <td>20.34</td>\n",
              "    </tr>\n",
              "    <tr>\n",
              "      <th>4</th>\n",
              "      <td>17850.0</td>\n",
              "      <td>2010-12-01 08:26:00</td>\n",
              "      <td>536365</td>\n",
              "      <td>6</td>\n",
              "      <td>3.39</td>\n",
              "      <td>20.34</td>\n",
              "    </tr>\n",
              "  </tbody>\n",
              "</table>\n",
              "</div>"
            ],
            "text/plain": [
              "   CustomerID         InvoiceDate InvoiceNo  Quantity  UnitPrice  TotalPurchase\n",
              "0     17850.0 2010-12-01 08:26:00    536365         6       2.55          15.30\n",
              "1     17850.0 2010-12-01 08:26:00    536365         6       3.39          20.34\n",
              "2     17850.0 2010-12-01 08:26:00    536365         8       2.75          22.00\n",
              "3     17850.0 2010-12-01 08:26:00    536365         6       3.39          20.34\n",
              "4     17850.0 2010-12-01 08:26:00    536365         6       3.39          20.34"
            ]
          },
          "metadata": {
            "tags": []
          },
          "execution_count": 17
        }
      ]
    },
    {
      "cell_type": "markdown",
      "metadata": {
        "id": "Sqg6fXHKsUZT"
      },
      "source": [
        "Extract month and year from InvoiceDate."
      ]
    },
    {
      "cell_type": "code",
      "metadata": {
        "id": "b4e3xkGisrXg",
        "outputId": "43394d9e-4fe9-4178-fc6b-02f2c60e3fe3",
        "colab": {
          "base_uri": "https://localhost:8080/",
          "height": 195
        }
      },
      "source": [
        "uk_data['month_yr'] = uk_data['InvoiceDate'].apply(lambda x: x.strftime('%b-%Y'))\n",
        "uk_data.head()"
      ],
      "execution_count": null,
      "outputs": [
        {
          "output_type": "execute_result",
          "data": {
            "text/html": [
              "<div>\n",
              "<style scoped>\n",
              "    .dataframe tbody tr th:only-of-type {\n",
              "        vertical-align: middle;\n",
              "    }\n",
              "\n",
              "    .dataframe tbody tr th {\n",
              "        vertical-align: top;\n",
              "    }\n",
              "\n",
              "    .dataframe thead th {\n",
              "        text-align: right;\n",
              "    }\n",
              "</style>\n",
              "<table border=\"1\" class=\"dataframe\">\n",
              "  <thead>\n",
              "    <tr style=\"text-align: right;\">\n",
              "      <th></th>\n",
              "      <th>CustomerID</th>\n",
              "      <th>InvoiceDate</th>\n",
              "      <th>InvoiceNo</th>\n",
              "      <th>Quantity</th>\n",
              "      <th>UnitPrice</th>\n",
              "      <th>TotalPurchase</th>\n",
              "      <th>month_yr</th>\n",
              "    </tr>\n",
              "  </thead>\n",
              "  <tbody>\n",
              "    <tr>\n",
              "      <th>0</th>\n",
              "      <td>17850.0</td>\n",
              "      <td>2010-12-01 08:26:00</td>\n",
              "      <td>536365</td>\n",
              "      <td>6</td>\n",
              "      <td>2.55</td>\n",
              "      <td>15.30</td>\n",
              "      <td>Dec-2010</td>\n",
              "    </tr>\n",
              "    <tr>\n",
              "      <th>1</th>\n",
              "      <td>17850.0</td>\n",
              "      <td>2010-12-01 08:26:00</td>\n",
              "      <td>536365</td>\n",
              "      <td>6</td>\n",
              "      <td>3.39</td>\n",
              "      <td>20.34</td>\n",
              "      <td>Dec-2010</td>\n",
              "    </tr>\n",
              "    <tr>\n",
              "      <th>2</th>\n",
              "      <td>17850.0</td>\n",
              "      <td>2010-12-01 08:26:00</td>\n",
              "      <td>536365</td>\n",
              "      <td>8</td>\n",
              "      <td>2.75</td>\n",
              "      <td>22.00</td>\n",
              "      <td>Dec-2010</td>\n",
              "    </tr>\n",
              "    <tr>\n",
              "      <th>3</th>\n",
              "      <td>17850.0</td>\n",
              "      <td>2010-12-01 08:26:00</td>\n",
              "      <td>536365</td>\n",
              "      <td>6</td>\n",
              "      <td>3.39</td>\n",
              "      <td>20.34</td>\n",
              "      <td>Dec-2010</td>\n",
              "    </tr>\n",
              "    <tr>\n",
              "      <th>4</th>\n",
              "      <td>17850.0</td>\n",
              "      <td>2010-12-01 08:26:00</td>\n",
              "      <td>536365</td>\n",
              "      <td>6</td>\n",
              "      <td>3.39</td>\n",
              "      <td>20.34</td>\n",
              "      <td>Dec-2010</td>\n",
              "    </tr>\n",
              "  </tbody>\n",
              "</table>\n",
              "</div>"
            ],
            "text/plain": [
              "   CustomerID         InvoiceDate InvoiceNo  ...  UnitPrice  TotalPurchase  month_yr\n",
              "0     17850.0 2010-12-01 08:26:00    536365  ...       2.55          15.30  Dec-2010\n",
              "1     17850.0 2010-12-01 08:26:00    536365  ...       3.39          20.34  Dec-2010\n",
              "2     17850.0 2010-12-01 08:26:00    536365  ...       2.75          22.00  Dec-2010\n",
              "3     17850.0 2010-12-01 08:26:00    536365  ...       3.39          20.34  Dec-2010\n",
              "4     17850.0 2010-12-01 08:26:00    536365  ...       3.39          20.34  Dec-2010\n",
              "\n",
              "[5 rows x 7 columns]"
            ]
          },
          "metadata": {
            "tags": []
          },
          "execution_count": 18
        }
      ]
    },
    {
      "cell_type": "markdown",
      "metadata": {
        "id": "a8rxkzkus01v"
      },
      "source": [
        "The pivot table takes the columns as input, and groups the entries into a two-dimensional table in such a way that provides a multidimensional summarization of the data."
      ]
    },
    {
      "cell_type": "code",
      "metadata": {
        "id": "2xY3bPDes5Jp",
        "outputId": "c983e639-3c0c-4eb1-e511-673ac8ee837f",
        "colab": {
          "base_uri": "https://localhost:8080/",
          "height": 195
        }
      },
      "source": [
        "sale=uk_data.pivot_table(index=['CustomerID'],columns=['month_yr'],values='TotalPurchase',aggfunc='sum',fill_value=0).reset_index()\n",
        "sale.head()"
      ],
      "execution_count": null,
      "outputs": [
        {
          "output_type": "execute_result",
          "data": {
            "text/html": [
              "<div>\n",
              "<style scoped>\n",
              "    .dataframe tbody tr th:only-of-type {\n",
              "        vertical-align: middle;\n",
              "    }\n",
              "\n",
              "    .dataframe tbody tr th {\n",
              "        vertical-align: top;\n",
              "    }\n",
              "\n",
              "    .dataframe thead th {\n",
              "        text-align: right;\n",
              "    }\n",
              "</style>\n",
              "<table border=\"1\" class=\"dataframe\">\n",
              "  <thead>\n",
              "    <tr style=\"text-align: right;\">\n",
              "      <th>month_yr</th>\n",
              "      <th>CustomerID</th>\n",
              "      <th>Apr-2011</th>\n",
              "      <th>Aug-2011</th>\n",
              "      <th>Dec-2010</th>\n",
              "      <th>Dec-2011</th>\n",
              "      <th>Feb-2011</th>\n",
              "      <th>Jan-2011</th>\n",
              "      <th>Jul-2011</th>\n",
              "      <th>Jun-2011</th>\n",
              "      <th>Mar-2011</th>\n",
              "      <th>May-2011</th>\n",
              "      <th>Nov-2011</th>\n",
              "      <th>Oct-2011</th>\n",
              "      <th>Sep-2011</th>\n",
              "    </tr>\n",
              "  </thead>\n",
              "  <tbody>\n",
              "    <tr>\n",
              "      <th>0</th>\n",
              "      <td>12346.0</td>\n",
              "      <td>0.00</td>\n",
              "      <td>0.00</td>\n",
              "      <td>0.00</td>\n",
              "      <td>0.00</td>\n",
              "      <td>0.00</td>\n",
              "      <td>77183.60</td>\n",
              "      <td>0.00</td>\n",
              "      <td>0.00</td>\n",
              "      <td>0.00</td>\n",
              "      <td>0.00</td>\n",
              "      <td>0.00</td>\n",
              "      <td>0.00</td>\n",
              "      <td>0.00</td>\n",
              "    </tr>\n",
              "    <tr>\n",
              "      <th>1</th>\n",
              "      <td>12747.0</td>\n",
              "      <td>0.00</td>\n",
              "      <td>301.70</td>\n",
              "      <td>706.27</td>\n",
              "      <td>438.50</td>\n",
              "      <td>0.00</td>\n",
              "      <td>303.04</td>\n",
              "      <td>0.00</td>\n",
              "      <td>376.30</td>\n",
              "      <td>310.78</td>\n",
              "      <td>771.31</td>\n",
              "      <td>312.73</td>\n",
              "      <td>675.38</td>\n",
              "      <td>0.00</td>\n",
              "    </tr>\n",
              "    <tr>\n",
              "      <th>2</th>\n",
              "      <td>12748.0</td>\n",
              "      <td>1100.37</td>\n",
              "      <td>898.24</td>\n",
              "      <td>4228.13</td>\n",
              "      <td>1070.27</td>\n",
              "      <td>389.64</td>\n",
              "      <td>418.77</td>\n",
              "      <td>1113.27</td>\n",
              "      <td>2006.26</td>\n",
              "      <td>1179.37</td>\n",
              "      <td>2234.50</td>\n",
              "      <td>10639.23</td>\n",
              "      <td>2292.84</td>\n",
              "      <td>6148.84</td>\n",
              "    </tr>\n",
              "    <tr>\n",
              "      <th>3</th>\n",
              "      <td>12749.0</td>\n",
              "      <td>0.00</td>\n",
              "      <td>1896.13</td>\n",
              "      <td>0.00</td>\n",
              "      <td>763.06</td>\n",
              "      <td>0.00</td>\n",
              "      <td>0.00</td>\n",
              "      <td>0.00</td>\n",
              "      <td>0.00</td>\n",
              "      <td>0.00</td>\n",
              "      <td>859.10</td>\n",
              "      <td>572.59</td>\n",
              "      <td>0.00</td>\n",
              "      <td>0.00</td>\n",
              "    </tr>\n",
              "    <tr>\n",
              "      <th>4</th>\n",
              "      <td>12820.0</td>\n",
              "      <td>0.00</td>\n",
              "      <td>0.00</td>\n",
              "      <td>0.00</td>\n",
              "      <td>210.35</td>\n",
              "      <td>0.00</td>\n",
              "      <td>170.46</td>\n",
              "      <td>0.00</td>\n",
              "      <td>0.00</td>\n",
              "      <td>0.00</td>\n",
              "      <td>0.00</td>\n",
              "      <td>0.00</td>\n",
              "      <td>343.76</td>\n",
              "      <td>217.77</td>\n",
              "    </tr>\n",
              "  </tbody>\n",
              "</table>\n",
              "</div>"
            ],
            "text/plain": [
              "month_yr  CustomerID  Apr-2011  Aug-2011  ...  Nov-2011  Oct-2011  Sep-2011\n",
              "0            12346.0      0.00      0.00  ...      0.00      0.00      0.00\n",
              "1            12747.0      0.00    301.70  ...    312.73    675.38      0.00\n",
              "2            12748.0   1100.37    898.24  ...  10639.23   2292.84   6148.84\n",
              "3            12749.0      0.00   1896.13  ...    572.59      0.00      0.00\n",
              "4            12820.0      0.00      0.00  ...      0.00    343.76    217.77\n",
              "\n",
              "[5 rows x 14 columns]"
            ]
          },
          "metadata": {
            "tags": []
          },
          "execution_count": 19
        }
      ]
    },
    {
      "cell_type": "markdown",
      "metadata": {
        "id": "LMK4crU5tAx4"
      },
      "source": [
        "Let's sum all the months sales."
      ]
    },
    {
      "cell_type": "code",
      "metadata": {
        "id": "Gfo76OH-tFsk",
        "outputId": "cb082b5b-2e3c-4109-b633-9763837edd43",
        "colab": {
          "base_uri": "https://localhost:8080/",
          "height": 195
        }
      },
      "source": [
        "sale['CLV']=sale.iloc[:,2:].sum(axis=1)\n",
        "sale.head()"
      ],
      "execution_count": null,
      "outputs": [
        {
          "output_type": "execute_result",
          "data": {
            "text/html": [
              "<div>\n",
              "<style scoped>\n",
              "    .dataframe tbody tr th:only-of-type {\n",
              "        vertical-align: middle;\n",
              "    }\n",
              "\n",
              "    .dataframe tbody tr th {\n",
              "        vertical-align: top;\n",
              "    }\n",
              "\n",
              "    .dataframe thead th {\n",
              "        text-align: right;\n",
              "    }\n",
              "</style>\n",
              "<table border=\"1\" class=\"dataframe\">\n",
              "  <thead>\n",
              "    <tr style=\"text-align: right;\">\n",
              "      <th>month_yr</th>\n",
              "      <th>CustomerID</th>\n",
              "      <th>Apr-2011</th>\n",
              "      <th>Aug-2011</th>\n",
              "      <th>Dec-2010</th>\n",
              "      <th>Dec-2011</th>\n",
              "      <th>Feb-2011</th>\n",
              "      <th>Jan-2011</th>\n",
              "      <th>Jul-2011</th>\n",
              "      <th>Jun-2011</th>\n",
              "      <th>Mar-2011</th>\n",
              "      <th>May-2011</th>\n",
              "      <th>Nov-2011</th>\n",
              "      <th>Oct-2011</th>\n",
              "      <th>Sep-2011</th>\n",
              "      <th>CLV</th>\n",
              "    </tr>\n",
              "  </thead>\n",
              "  <tbody>\n",
              "    <tr>\n",
              "      <th>0</th>\n",
              "      <td>12346.0</td>\n",
              "      <td>0.00</td>\n",
              "      <td>0.00</td>\n",
              "      <td>0.00</td>\n",
              "      <td>0.00</td>\n",
              "      <td>0.00</td>\n",
              "      <td>77183.60</td>\n",
              "      <td>0.00</td>\n",
              "      <td>0.00</td>\n",
              "      <td>0.00</td>\n",
              "      <td>0.00</td>\n",
              "      <td>0.00</td>\n",
              "      <td>0.00</td>\n",
              "      <td>0.00</td>\n",
              "      <td>77183.60</td>\n",
              "    </tr>\n",
              "    <tr>\n",
              "      <th>1</th>\n",
              "      <td>12747.0</td>\n",
              "      <td>0.00</td>\n",
              "      <td>301.70</td>\n",
              "      <td>706.27</td>\n",
              "      <td>438.50</td>\n",
              "      <td>0.00</td>\n",
              "      <td>303.04</td>\n",
              "      <td>0.00</td>\n",
              "      <td>376.30</td>\n",
              "      <td>310.78</td>\n",
              "      <td>771.31</td>\n",
              "      <td>312.73</td>\n",
              "      <td>675.38</td>\n",
              "      <td>0.00</td>\n",
              "      <td>4196.01</td>\n",
              "    </tr>\n",
              "    <tr>\n",
              "      <th>2</th>\n",
              "      <td>12748.0</td>\n",
              "      <td>1100.37</td>\n",
              "      <td>898.24</td>\n",
              "      <td>4228.13</td>\n",
              "      <td>1070.27</td>\n",
              "      <td>389.64</td>\n",
              "      <td>418.77</td>\n",
              "      <td>1113.27</td>\n",
              "      <td>2006.26</td>\n",
              "      <td>1179.37</td>\n",
              "      <td>2234.50</td>\n",
              "      <td>10639.23</td>\n",
              "      <td>2292.84</td>\n",
              "      <td>6148.84</td>\n",
              "      <td>32619.36</td>\n",
              "    </tr>\n",
              "    <tr>\n",
              "      <th>3</th>\n",
              "      <td>12749.0</td>\n",
              "      <td>0.00</td>\n",
              "      <td>1896.13</td>\n",
              "      <td>0.00</td>\n",
              "      <td>763.06</td>\n",
              "      <td>0.00</td>\n",
              "      <td>0.00</td>\n",
              "      <td>0.00</td>\n",
              "      <td>0.00</td>\n",
              "      <td>0.00</td>\n",
              "      <td>859.10</td>\n",
              "      <td>572.59</td>\n",
              "      <td>0.00</td>\n",
              "      <td>0.00</td>\n",
              "      <td>4090.88</td>\n",
              "    </tr>\n",
              "    <tr>\n",
              "      <th>4</th>\n",
              "      <td>12820.0</td>\n",
              "      <td>0.00</td>\n",
              "      <td>0.00</td>\n",
              "      <td>0.00</td>\n",
              "      <td>210.35</td>\n",
              "      <td>0.00</td>\n",
              "      <td>170.46</td>\n",
              "      <td>0.00</td>\n",
              "      <td>0.00</td>\n",
              "      <td>0.00</td>\n",
              "      <td>0.00</td>\n",
              "      <td>0.00</td>\n",
              "      <td>343.76</td>\n",
              "      <td>217.77</td>\n",
              "      <td>942.34</td>\n",
              "    </tr>\n",
              "  </tbody>\n",
              "</table>\n",
              "</div>"
            ],
            "text/plain": [
              "month_yr  CustomerID  Apr-2011  Aug-2011  ...  Oct-2011  Sep-2011       CLV\n",
              "0            12346.0      0.00      0.00  ...      0.00      0.00  77183.60\n",
              "1            12747.0      0.00    301.70  ...    675.38      0.00   4196.01\n",
              "2            12748.0   1100.37    898.24  ...   2292.84   6148.84  32619.36\n",
              "3            12749.0      0.00   1896.13  ...      0.00      0.00   4090.88\n",
              "4            12820.0      0.00      0.00  ...    343.76    217.77    942.34\n",
              "\n",
              "[5 rows x 15 columns]"
            ]
          },
          "metadata": {
            "tags": []
          },
          "execution_count": 20
        }
      ]
    },
    {
      "cell_type": "markdown",
      "metadata": {
        "id": "iXRVng04s33-"
      },
      "source": [
        "### Selecting Feature\n",
        "Here, we need to divide the given columns into two types of variables dependent(or target variable) and independent variable(or feature variables). Select latest 6 month as independent variable."
      ]
    },
    {
      "cell_type": "code",
      "metadata": {
        "id": "UI56RF9ttSjM"
      },
      "source": [
        "X=sale[['Dec-2011','Nov-2011', 'Oct-2011','Sep-2011','Aug-2011','Jul-2011']]\n",
        "y=sale[['CLV']]"
      ],
      "execution_count": null,
      "outputs": []
    },
    {
      "cell_type": "markdown",
      "metadata": {
        "id": "ux_SWA5DtXqJ"
      },
      "source": [
        "### Splitting Data\n",
        "To understand model performance, dividing the dataset into a training set and a test set is a good strategy.\n",
        "\n",
        "We need to pass 3 parameters features, target, and test_set size. Additionally, we can use random_state as a seed value to maintain reproducibility, which means whenever we split the data will not affect the results. Also, if random_state is None, then random number generator uses np.random for selecting records randomly. It means if we don't set a seed, it is different each time."
      ]
    },
    {
      "cell_type": "code",
      "metadata": {
        "id": "4FwPtEbWteuz"
      },
      "source": [
        "#split training set and test set\n",
        "from sklearn.model_selection import train_test_split\n",
        "X_train, X_test, y_train, y_test = train_test_split(X, y,random_state=0)"
      ],
      "execution_count": null,
      "outputs": []
    },
    {
      "cell_type": "code",
      "metadata": {
        "id": "_v_ZkRx6t4zN",
        "outputId": "88aa4b5b-e698-4a1c-bf79-daa42e857cb9",
        "colab": {
          "base_uri": "https://localhost:8080/",
          "height": 50
        }
      },
      "source": [
        "# import model\n",
        "from sklearn.linear_model import LinearRegression\n",
        "\n",
        "# instantiate\n",
        "linreg = LinearRegression()\n",
        "\n",
        "# fit the model to the training data (learn the coefficients)\n",
        "linreg.fit(X_train, y_train)\n",
        "\n",
        "# make predictions on the testing set\n",
        "y_pred = linreg.predict(X_test)\n",
        "\n",
        "# print the intercept and coefficients\n",
        "print(linreg.intercept_)\n",
        "print(linreg.coef_)"
      ],
      "execution_count": null,
      "outputs": [
        {
          "output_type": "stream",
          "text": [
            "[208.50969617]\n",
            "[[0.99880551 0.80381254 1.60226829 1.67433228 1.52860813 2.87959449]]\n"
          ],
          "name": "stdout"
        }
      ]
    },
    {
      "cell_type": "markdown",
      "metadata": {
        "id": "kh_Htd7HuCCS"
      },
      "source": [
        "### Model Fit \n",
        "In order to evaluate the overall fit of the linear model, we use the R-squared value. R-squared is the proportion of variance explained by the model. Value of R-squared lies between 0 and 1. Higher value or R-squared is considered better because it indicates the larger variance explained by the model."
      ]
    },
    {
      "cell_type": "code",
      "metadata": {
        "id": "2cKhbllBuBT5",
        "outputId": "d4be7f88-dd37-437b-eb23-ca8af0c03057",
        "colab": {
          "base_uri": "https://localhost:8080/",
          "height": 34
        }
      },
      "source": [
        "from sklearn import metrics\n",
        "\n",
        "# compute the R Square for model\n",
        "print(\"R-Square:\",metrics.r2_score(y_test, y_pred))"
      ],
      "execution_count": null,
      "outputs": [
        {
          "output_type": "stream",
          "text": [
            "R-Square: 0.9666074402817513\n"
          ],
          "name": "stdout"
        }
      ]
    },
    {
      "cell_type": "markdown",
      "metadata": {
        "id": "7JLk9YGQuK5S"
      },
      "source": [
        "This model has a higher R-squared (0.96). This model provides a better fit to the data.\n",
        "Model Evaluation\n",
        "For regression problems following evaluation metrics used:\n",
        "- Mean Absolute Error (MAE) is the mean of the absolute value of the errors.\n",
        "- Mean Squared Error (MSE) is the mean of the squared errors.\n",
        "- Root Mean Squared Error (RMSE) is the square root of the mean of the squared errors."
      ]
    },
    {
      "cell_type": "code",
      "metadata": {
        "id": "s8wr4ELtuKHG",
        "outputId": "df94678d-2ec4-467b-f989-3b8f3dc5a1b6",
        "colab": {
          "base_uri": "https://localhost:8080/",
          "height": 67
        }
      },
      "source": [
        "# calculate MAE using scikit-learn\n",
        "print(\"MAE:\",metrics.mean_absolute_error(y_test,y_pred))\n",
        "\n",
        "#calculate mean squared error\n",
        "print(\"MSE\",metrics.mean_squared_error(y_test, y_pred))\n",
        "\n",
        "# compute the RMSE of our predictions\n",
        "print(\"RMSE:\",np.sqrt(metrics.mean_squared_error(y_test, y_pred)))"
      ],
      "execution_count": null,
      "outputs": [
        {
          "output_type": "stream",
          "text": [
            "MAE: 595.0282284701232\n",
            "MSE 2114139.8898678916\n",
            "RMSE: 1454.008215199588\n"
          ],
          "name": "stdout"
        }
      ]
    },
    {
      "cell_type": "markdown",
      "metadata": {
        "id": "PDgAXG-BuaOf"
      },
      "source": [
        "RMSE is more popular than MSE and MAE because RMSE is interpretable with y because of the same units.\n",
        "\n",
        "# Pros and Cons of CLTV\n",
        "- CLTV helps us to design an effective business plan and also provide a chance to scale our business.\n",
        "- CLTV draw meaningful customer segments these segment can help us to identify needs of the different-different segment. \n",
        "- CLTV can figure out most profitable customers, but how we are going to make a profit from them, it depends on our strategy. \n",
        "Generally, CLTV models are confused and misused. Obsession with CLTV may create blunders. Companies only focus on finding the best customer group and focusing on them and repeat the business, but it’s also important to give attention to other customers.\n",
        "\n",
        "# CLTV Model Definition\n",
        "For the CLTV models, the following nomenclature is used:\n",
        "- Frequency represents the number of repeat purchases the customer has made. This means that it’s one less than the total number of purchases.\n",
        "- T represents the age of the customer in whatever time units chosen (daily, in our dataset). This is equal to the duration between a customer’s first purchase and the end of the period under study.\n",
        "- Recency represents the age of the customer when they made their most recent purchases. This is equal to the duration between a customer’s first purchase and their latest purchase. (Thus if they have made only 1 purchase, the recency is 0.)\n",
        "\n",
        "We have some cleaning to do, then create a new dataframe that contains CustomerID, InvoiceDate (remove the time) and add a new column — sales:"
      ]
    },
    {
      "cell_type": "code",
      "metadata": {
        "id": "LeCvWCIK7Vu3",
        "outputId": "96f00e8d-4818-4635-dcef-c80cc7618c09",
        "colab": {
          "base_uri": "https://localhost:8080/",
          "height": 134
        }
      },
      "source": [
        "import datetime as dt\n",
        "data['InvoiceDate'] = pd.to_datetime(data['InvoiceDate']).dt.date\n",
        "data = data[pd.notnull(data['CustomerID'])]\n",
        "data = data[(data['Quantity']>0)]\n",
        "data['Sales'] = data['Quantity'] * data['UnitPrice']\n",
        "cols_of_interest = ['CustomerID', 'InvoiceDate', 'Sales']\n",
        "data = data[cols_of_interest]\n",
        "print(data.head())\n",
        "print(data['CustomerID'].nunique())"
      ],
      "execution_count": null,
      "outputs": [
        {
          "output_type": "stream",
          "text": [
            "   CustomerID InvoiceDate  Sales\n",
            "0     17850.0  2010-12-01  15.30\n",
            "1     17850.0  2010-12-01  20.34\n",
            "2     17850.0  2010-12-01  22.00\n",
            "3     17850.0  2010-12-01  20.34\n",
            "4     17850.0  2010-12-01  20.34\n",
            "4339\n"
          ],
          "name": "stdout"
        }
      ]
    },
    {
      "cell_type": "code",
      "metadata": {
        "id": "AuOQBWZq2coW",
        "outputId": "a00c29b2-f88a-408f-b34c-d765b07d3661",
        "colab": {
          "base_uri": "https://localhost:8080/",
          "height": 252
        }
      },
      "source": [
        "pip install lifetimes"
      ],
      "execution_count": null,
      "outputs": [
        {
          "output_type": "stream",
          "text": [
            "Collecting lifetimes\n",
            "\u001b[?25l  Downloading https://files.pythonhosted.org/packages/13/58/4b3f394c4c2c66294c402e836274f7537c41482676112a97fe982ad28082/Lifetimes-0.11.1-py2.py3-none-any.whl (581kB)\n",
            "\u001b[K     |████████████████████████████████| 583kB 49.6MB/s \n",
            "\u001b[?25hRequirement already satisfied: autograd>=1.2.0 in /usr/local/lib/python3.6/dist-packages (from lifetimes) (1.3)\n",
            "Requirement already satisfied: dill>=0.2.6 in /usr/local/lib/python3.6/dist-packages (from lifetimes) (0.3.0)\n",
            "Requirement already satisfied: numpy>=1.10.0 in /usr/local/lib/python3.6/dist-packages (from lifetimes) (1.16.5)\n",
            "Requirement already satisfied: scipy>=1.0.0 in /usr/local/lib/python3.6/dist-packages (from lifetimes) (1.3.1)\n",
            "Requirement already satisfied: pandas>=0.24.0 in /usr/local/lib/python3.6/dist-packages (from lifetimes) (0.24.2)\n",
            "Requirement already satisfied: future>=0.15.2 in /usr/local/lib/python3.6/dist-packages (from autograd>=1.2.0->lifetimes) (0.16.0)\n",
            "Requirement already satisfied: python-dateutil>=2.5.0 in /usr/local/lib/python3.6/dist-packages (from pandas>=0.24.0->lifetimes) (2.5.3)\n",
            "Requirement already satisfied: pytz>=2011k in /usr/local/lib/python3.6/dist-packages (from pandas>=0.24.0->lifetimes) (2018.9)\n",
            "Requirement already satisfied: six>=1.5 in /usr/local/lib/python3.6/dist-packages (from python-dateutil>=2.5.0->pandas>=0.24.0->lifetimes) (1.12.0)\n",
            "Installing collected packages: lifetimes\n",
            "Successfully installed lifetimes-0.11.1\n"
          ],
          "name": "stdout"
        }
      ]
    },
    {
      "cell_type": "code",
      "metadata": {
        "id": "gfxnw6Wh3GIh",
        "outputId": "001a115e-bf8c-47ac-9049-8d2c8678ed72",
        "colab": {
          "base_uri": "https://localhost:8080/",
          "height": 225
        }
      },
      "source": [
        "from lifetimes.plotting import *\n",
        "from lifetimes.utils import *\n",
        "\n",
        "df = summary_data_from_transaction_data(data, 'CustomerID', 'InvoiceDate', monetary_value_col='Sales', observation_period_end='2011-12-9')\n",
        "df.head()"
      ],
      "execution_count": null,
      "outputs": [
        {
          "output_type": "execute_result",
          "data": {
            "text/html": [
              "<div>\n",
              "<style scoped>\n",
              "    .dataframe tbody tr th:only-of-type {\n",
              "        vertical-align: middle;\n",
              "    }\n",
              "\n",
              "    .dataframe tbody tr th {\n",
              "        vertical-align: top;\n",
              "    }\n",
              "\n",
              "    .dataframe thead th {\n",
              "        text-align: right;\n",
              "    }\n",
              "</style>\n",
              "<table border=\"1\" class=\"dataframe\">\n",
              "  <thead>\n",
              "    <tr style=\"text-align: right;\">\n",
              "      <th></th>\n",
              "      <th>frequency</th>\n",
              "      <th>recency</th>\n",
              "      <th>T</th>\n",
              "      <th>monetary_value</th>\n",
              "    </tr>\n",
              "    <tr>\n",
              "      <th>CustomerID</th>\n",
              "      <th></th>\n",
              "      <th></th>\n",
              "      <th></th>\n",
              "      <th></th>\n",
              "    </tr>\n",
              "  </thead>\n",
              "  <tbody>\n",
              "    <tr>\n",
              "      <th>12346.0</th>\n",
              "      <td>0.0</td>\n",
              "      <td>0.0</td>\n",
              "      <td>325.0</td>\n",
              "      <td>0.000000</td>\n",
              "    </tr>\n",
              "    <tr>\n",
              "      <th>12347.0</th>\n",
              "      <td>6.0</td>\n",
              "      <td>365.0</td>\n",
              "      <td>367.0</td>\n",
              "      <td>599.701667</td>\n",
              "    </tr>\n",
              "    <tr>\n",
              "      <th>12348.0</th>\n",
              "      <td>3.0</td>\n",
              "      <td>283.0</td>\n",
              "      <td>358.0</td>\n",
              "      <td>301.480000</td>\n",
              "    </tr>\n",
              "    <tr>\n",
              "      <th>12349.0</th>\n",
              "      <td>0.0</td>\n",
              "      <td>0.0</td>\n",
              "      <td>18.0</td>\n",
              "      <td>0.000000</td>\n",
              "    </tr>\n",
              "    <tr>\n",
              "      <th>12350.0</th>\n",
              "      <td>0.0</td>\n",
              "      <td>0.0</td>\n",
              "      <td>310.0</td>\n",
              "      <td>0.000000</td>\n",
              "    </tr>\n",
              "  </tbody>\n",
              "</table>\n",
              "</div>"
            ],
            "text/plain": [
              "            frequency  recency      T  monetary_value\n",
              "CustomerID                                           \n",
              "12346.0           0.0      0.0  325.0        0.000000\n",
              "12347.0           6.0    365.0  367.0      599.701667\n",
              "12348.0           3.0    283.0  358.0      301.480000\n",
              "12349.0           0.0      0.0   18.0        0.000000\n",
              "12350.0           0.0      0.0  310.0        0.000000"
            ]
          },
          "metadata": {
            "tags": []
          },
          "execution_count": 20
        }
      ]
    },
    {
      "cell_type": "markdown",
      "metadata": {
        "id": "h2yzeqZQ8IqY"
      },
      "source": [
        "There are 4339 customers under our analysis.\n",
        "CustomerID 12346 made 1 purchase only (no repeat), so the frequency and recency are 0, and the age is 325 days (e.g. the duration between the first purchase and the end of the period in the analysis)."
      ]
    },
    {
      "cell_type": "code",
      "metadata": {
        "id": "9y_n1nT78L8e",
        "outputId": "a7075e53-940f-4c09-a2be-6b7f89665919",
        "colab": {
          "base_uri": "https://localhost:8080/",
          "height": 449
        }
      },
      "source": [
        "df['frequency'].plot(kind='hist', bins=50)\n",
        "plt.title('Frequency')\n",
        "print(df['frequency'].describe())\n",
        "print(sum(df['frequency'] == 0)/float(len(data)))"
      ],
      "execution_count": null,
      "outputs": [
        {
          "output_type": "stream",
          "text": [
            "count    4339.000000\n",
            "mean        2.864024\n",
            "std         5.952745\n",
            "min         0.000000\n",
            "25%         0.000000\n",
            "50%         1.000000\n",
            "75%         3.000000\n",
            "max       131.000000\n",
            "Name: frequency, dtype: float64\n",
            "0.0038927031292407595\n"
          ],
          "name": "stdout"
        },
        {
          "output_type": "display_data",
          "data": {
            "image/png": "[encoded data removed]",
            "text/plain": [
              "<Figure size 432x288 with 1 Axes>"
            ]
          },
          "metadata": {
            "tags": []
          }
        }
      ]
    },
    {
      "cell_type": "code",
      "metadata": {
        "id": "0m9zB7Jeqmtw",
        "outputId": "b224f09a-5c43-422c-cd51-b4cd7dea5ccb",
        "colab": {
          "base_uri": "https://localhost:8080/",
          "height": 449
        }
      },
      "source": [
        "df['recency'].plot(kind='hist', bins=50)\n",
        "plt.title('Recency')\n",
        "print(df['recency'].describe())\n",
        "print(sum(df['recency'] == 0)/float(len(data)))"
      ],
      "execution_count": null,
      "outputs": [
        {
          "output_type": "stream",
          "text": [
            "count    4339.000000\n",
            "mean      130.741415\n",
            "std       132.210176\n",
            "min         0.000000\n",
            "25%         0.000000\n",
            "50%        93.000000\n",
            "75%       252.000000\n",
            "max       373.000000\n",
            "Name: recency, dtype: float64\n",
            "0.0038927031292407595\n"
          ],
          "name": "stdout"
        },
        {
          "output_type": "display_data",
          "data": {
            "image/png": "[encoded data removed]",
            "text/plain": [
              "<Figure size 432x288 with 1 Axes>"
            ]
          },
          "metadata": {
            "tags": []
          }
        }
      ]
    },
    {
      "cell_type": "markdown",
      "metadata": {
        "id": "a2JShc3R8Z8w"
      },
      "source": [
        "Among all customers in our data, more than 35% of them only made purchase once (no repeat).\n",
        "## Frequency/Recency Analysis Using the BG/NBD Model"
      ]
    },
    {
      "cell_type": "code",
      "metadata": {
        "id": "YIkT_Oeo8hxV",
        "outputId": "d4e81d8c-dd70-48c5-f5dc-1b36bfb0da9a",
        "colab": {
          "base_uri": "https://localhost:8080/",
          "height": 34
        }
      },
      "source": [
        "from lifetimes import BetaGeoFitter\n",
        "bgf = BetaGeoFitter(penalizer_coef=0.0)\n",
        "bgf.fit(df['frequency'], df['recency'], df['T'])\n",
        "print(bgf)"
      ],
      "execution_count": null,
      "outputs": [
        {
          "output_type": "stream",
          "text": [
            "<lifetimes.BetaGeoFitter: fitted with 4339 subjects, a: 0.00, alpha: 68.89, b: 6.75, r: 0.83>\n"
          ],
          "name": "stdout"
        }
      ]
    },
    {
      "cell_type": "code",
      "metadata": {
        "id": "A31bWuxDoHkP",
        "outputId": "147a8dd3-1ed0-48f9-c7d9-70b17d197c74",
        "colab": {
          "base_uri": "https://localhost:8080/",
          "height": 166
        }
      },
      "source": [
        "bgf.summary"
      ],
      "execution_count": null,
      "outputs": [
        {
          "output_type": "execute_result",
          "data": {
            "text/html": [
              "<div>\n",
              "<style scoped>\n",
              "    .dataframe tbody tr th:only-of-type {\n",
              "        vertical-align: middle;\n",
              "    }\n",
              "\n",
              "    .dataframe tbody tr th {\n",
              "        vertical-align: top;\n",
              "    }\n",
              "\n",
              "    .dataframe thead th {\n",
              "        text-align: right;\n",
              "    }\n",
              "</style>\n",
              "<table border=\"1\" class=\"dataframe\">\n",
              "  <thead>\n",
              "    <tr style=\"text-align: right;\">\n",
              "      <th></th>\n",
              "      <th>coef</th>\n",
              "      <th>se(coef)</th>\n",
              "      <th>lower 95% bound</th>\n",
              "      <th>upper 95% bound</th>\n",
              "    </tr>\n",
              "  </thead>\n",
              "  <tbody>\n",
              "    <tr>\n",
              "      <th>r</th>\n",
              "      <td>0.826433</td>\n",
              "      <td>0.026780</td>\n",
              "      <td>0.773944</td>\n",
              "      <td>0.878922</td>\n",
              "    </tr>\n",
              "    <tr>\n",
              "      <th>alpha</th>\n",
              "      <td>68.890678</td>\n",
              "      <td>2.611055</td>\n",
              "      <td>63.773011</td>\n",
              "      <td>74.008345</td>\n",
              "    </tr>\n",
              "    <tr>\n",
              "      <th>a</th>\n",
              "      <td>0.003443</td>\n",
              "      <td>0.010347</td>\n",
              "      <td>-0.016837</td>\n",
              "      <td>0.023722</td>\n",
              "    </tr>\n",
              "    <tr>\n",
              "      <th>b</th>\n",
              "      <td>6.749363</td>\n",
              "      <td>22.412933</td>\n",
              "      <td>-37.179985</td>\n",
              "      <td>50.678711</td>\n",
              "    </tr>\n",
              "  </tbody>\n",
              "</table>\n",
              "</div>"
            ],
            "text/plain": [
              "            coef   se(coef)  lower 95% bound  upper 95% bound\n",
              "r       0.826433   0.026780         0.773944         0.878922\n",
              "alpha  68.890678   2.611055        63.773011        74.008345\n",
              "a       0.003443   0.010347        -0.016837         0.023722\n",
              "b       6.749363  22.412933       -37.179985        50.678711"
            ]
          },
          "metadata": {
            "tags": []
          },
          "execution_count": 31
        }
      ]
    },
    {
      "cell_type": "code",
      "metadata": {
        "id": "rtk3jIiv0cEr",
        "outputId": "a2efca8d-b486-4477-dc23-b946f7dd9032",
        "colab": {
          "base_uri": "https://localhost:8080/",
          "height": 300
        }
      },
      "source": [
        "from scipy.stats import gamma, beta\n",
        "bgf = BetaGeoFitter(penalizer_coef=0.0)\n",
        "bgf.fit(df['frequency'], df['recency'], df['T'], )\n",
        "print (bgf)\n",
        "#  \n",
        "# Plot\n",
        "gbd = beta.rvs(bgf.params_['a'], bgf.params_['b'], size = 50000)\n",
        "ggd = gamma.rvs(bgf.params_['r'], scale=1./bgf.params_['alpha'], size = 50000)\n",
        "plt.figure(figsize=(14,4))\n",
        "plt.subplot(121)\n",
        "plt.title('Heterogenity of $p$')\n",
        "temp = plt.hist(gbd, 20,  alpha=0.75)\n",
        "plt.subplot(122) \n",
        "plt.title('Heterogenity of $\\lambda$')\n",
        "temp = plt.hist(ggd, 20,  alpha=0.75)"
      ],
      "execution_count": null,
      "outputs": [
        {
          "output_type": "stream",
          "text": [
            "<lifetimes.BetaGeoFitter: fitted with 4339 subjects, a: 0.00, alpha: 68.89, b: 6.75, r: 0.83>\n"
          ],
          "name": "stdout"
        },
        {
          "output_type": "display_data",
          "data": {
            "image/png": "[encoded data removed]",
            "text/plain": [
              "<Figure size 1008x288 with 2 Axes>"
            ]
          },
          "metadata": {
            "tags": []
          }
        }
      ]
    },
    {
      "cell_type": "markdown",
      "metadata": {
        "id": "MR9Pb1YM8r_K"
      },
      "source": [
        "### Visualizing our frequency/recency matrix\n",
        "Let's do some hypothetical analysis-\n",
        "- Customer who purchased every day for four weeks straight, and no transactions in months; chances of that customer being alive is less. \n",
        "- On the other hand, a customer who historically made purchase once a quarter, and again last quarter, is likely still alive. We can visualize this relationship using the frequency/recency matrix, which computes the expected number of transactions an artificial customer is to make in the next time period, given the recency (age at last purchase) and frequency (the number of repeat transactions  made)."
      ]
    },
    {
      "cell_type": "code",
      "metadata": {
        "id": "3zTVVFge8yOM",
        "outputId": "8fa16b9a-8a08-4d32-af0e-03cb7b39cedc",
        "colab": {
          "base_uri": "https://localhost:8080/",
          "height": 419
        }
      },
      "source": [
        "from lifetimes.plotting import plot_frequency_recency_matrix\n",
        "import matplotlib.pyplot as plt\n",
        "fig = plt.figure(figsize=(10,6))\n",
        "plot_frequency_recency_matrix(bgf)\n",
        "plt.show()"
      ],
      "execution_count": null,
      "outputs": [
        {
          "output_type": "display_data",
          "data": {
            "image/png": "[encoded data removed]",
            "text/plain": [
              "<Figure size 720x432 with 2 Axes>"
            ]
          },
          "metadata": {
            "tags": []
          }
        }
      ]
    },
    {
      "cell_type": "markdown",
      "metadata": {
        "id": "ZxIxmih09HX1"
      },
      "source": [
        "We can see that, if a customer has made 120 purchases, and their latest purchase was when they were approximately 350 days old (i.e. Recency: the duration between their first transaction and their latest transaction is 350 days), then they are our best customer (bottom-right).\n",
        "\n",
        "Customers who have purchased a lot and purchased recently will likely be the best customers in the future. We will never have enough of them.\n",
        "\n",
        "Customers who have purchased a lot but not recently (top-right corner), have probably gone.\n",
        "There are also another type of customers that around (40, 100) that represents the customer who buys infrequently, and we have not seen them recently, so they might buy again. However, we are not sure if they have gone or just between purchases.\n",
        "\n",
        "Another interesting matrix to look at is the probability of still being alive:\n"
      ]
    },
    {
      "cell_type": "code",
      "metadata": {
        "id": "h53wb3hM9Ruy",
        "outputId": "a901b520-515a-452d-f6e7-b0c449101174",
        "colab": {
          "base_uri": "https://localhost:8080/",
          "height": 419
        }
      },
      "source": [
        "from lifetimes.plotting import plot_probability_alive_matrix\n",
        "fig = plt.figure(figsize=(10,6))\n",
        "plot_probability_alive_matrix(bgf)\n",
        "plt.show()"
      ],
      "execution_count": null,
      "outputs": [
        {
          "output_type": "display_data",
          "data": {
            "image/png": "[encoded data removed]",
            "text/plain": [
              "<Figure size 720x432 with 2 Axes>"
            ]
          },
          "metadata": {
            "tags": []
          }
        }
      ]
    },
    {
      "cell_type": "markdown",
      "metadata": {
        "id": "50qK4NrP9dW6"
      },
      "source": [
        "- Customers who have purchased recently are almost surely “alive”.\n",
        "- Customers who have purchased a lot but not recently, are likely to have dropped out. And the more they bought in the past, the more likely they have dropped out. They are represented in the upper-right.\n",
        "\n",
        "### Ranking customers from best to worst\n",
        "Let’s return to our customers and rank them from “highest expected purchases in the next period” to lowest. Models expose a method that will predict a customer’s expected purchases in the next period using their history.\n"
      ]
    },
    {
      "cell_type": "code",
      "metadata": {
        "id": "e9NtLwDs9i8K",
        "outputId": "2650cb10-0449-4cf8-960f-de54fd049b31",
        "colab": {
          "base_uri": "https://localhost:8080/",
          "height": 373
        }
      },
      "source": [
        "t = 10\n",
        "df['predicted_purchases'] = bgf.conditional_expected_number_of_purchases_up_to_time(t, df['frequency'], df['recency'], df['T'])\n",
        "df.sort_values(by='predicted_purchases').tail(10)"
      ],
      "execution_count": null,
      "outputs": [
        {
          "output_type": "execute_result",
          "data": {
            "text/html": [
              "<div>\n",
              "<style scoped>\n",
              "    .dataframe tbody tr th:only-of-type {\n",
              "        vertical-align: middle;\n",
              "    }\n",
              "\n",
              "    .dataframe tbody tr th {\n",
              "        vertical-align: top;\n",
              "    }\n",
              "\n",
              "    .dataframe thead th {\n",
              "        text-align: right;\n",
              "    }\n",
              "</style>\n",
              "<table border=\"1\" class=\"dataframe\">\n",
              "  <thead>\n",
              "    <tr style=\"text-align: right;\">\n",
              "      <th></th>\n",
              "      <th>frequency</th>\n",
              "      <th>recency</th>\n",
              "      <th>T</th>\n",
              "      <th>monetary_value</th>\n",
              "      <th>predicted_purchases</th>\n",
              "    </tr>\n",
              "    <tr>\n",
              "      <th>CustomerID</th>\n",
              "      <th></th>\n",
              "      <th></th>\n",
              "      <th></th>\n",
              "      <th></th>\n",
              "      <th></th>\n",
              "    </tr>\n",
              "  </thead>\n",
              "  <tbody>\n",
              "    <tr>\n",
              "      <th>16422.0</th>\n",
              "      <td>47.0</td>\n",
              "      <td>352.0</td>\n",
              "      <td>369.0</td>\n",
              "      <td>702.472340</td>\n",
              "      <td>1.091688</td>\n",
              "    </tr>\n",
              "    <tr>\n",
              "      <th>13798.0</th>\n",
              "      <td>52.0</td>\n",
              "      <td>371.0</td>\n",
              "      <td>372.0</td>\n",
              "      <td>706.650962</td>\n",
              "      <td>1.198052</td>\n",
              "    </tr>\n",
              "    <tr>\n",
              "      <th>14527.0</th>\n",
              "      <td>53.0</td>\n",
              "      <td>367.0</td>\n",
              "      <td>369.0</td>\n",
              "      <td>155.016415</td>\n",
              "      <td>1.229085</td>\n",
              "    </tr>\n",
              "    <tr>\n",
              "      <th>13089.0</th>\n",
              "      <td>65.0</td>\n",
              "      <td>367.0</td>\n",
              "      <td>369.0</td>\n",
              "      <td>893.714308</td>\n",
              "      <td>1.503108</td>\n",
              "    </tr>\n",
              "    <tr>\n",
              "      <th>12971.0</th>\n",
              "      <td>70.0</td>\n",
              "      <td>369.0</td>\n",
              "      <td>372.0</td>\n",
              "      <td>159.211286</td>\n",
              "      <td>1.606263</td>\n",
              "    </tr>\n",
              "    <tr>\n",
              "      <th>14606.0</th>\n",
              "      <td>88.0</td>\n",
              "      <td>372.0</td>\n",
              "      <td>373.0</td>\n",
              "      <td>135.890114</td>\n",
              "      <td>2.009981</td>\n",
              "    </tr>\n",
              "    <tr>\n",
              "      <th>15311.0</th>\n",
              "      <td>89.0</td>\n",
              "      <td>373.0</td>\n",
              "      <td>373.0</td>\n",
              "      <td>677.729438</td>\n",
              "      <td>2.032627</td>\n",
              "    </tr>\n",
              "    <tr>\n",
              "      <th>17841.0</th>\n",
              "      <td>111.0</td>\n",
              "      <td>372.0</td>\n",
              "      <td>373.0</td>\n",
              "      <td>364.452162</td>\n",
              "      <td>2.530446</td>\n",
              "    </tr>\n",
              "    <tr>\n",
              "      <th>12748.0</th>\n",
              "      <td>113.0</td>\n",
              "      <td>373.0</td>\n",
              "      <td>373.0</td>\n",
              "      <td>298.360885</td>\n",
              "      <td>2.575726</td>\n",
              "    </tr>\n",
              "    <tr>\n",
              "      <th>14911.0</th>\n",
              "      <td>131.0</td>\n",
              "      <td>372.0</td>\n",
              "      <td>373.0</td>\n",
              "      <td>1093.661679</td>\n",
              "      <td>2.983024</td>\n",
              "    </tr>\n",
              "  </tbody>\n",
              "</table>\n",
              "</div>"
            ],
            "text/plain": [
              "            frequency  recency      T  monetary_value  predicted_purchases\n",
              "CustomerID                                                                \n",
              "16422.0          47.0    352.0  369.0      702.472340             1.091688\n",
              "13798.0          52.0    371.0  372.0      706.650962             1.198052\n",
              "14527.0          53.0    367.0  369.0      155.016415             1.229085\n",
              "13089.0          65.0    367.0  369.0      893.714308             1.503108\n",
              "12971.0          70.0    369.0  372.0      159.211286             1.606263\n",
              "14606.0          88.0    372.0  373.0      135.890114             2.009981\n",
              "15311.0          89.0    373.0  373.0      677.729438             2.032627\n",
              "17841.0         111.0    372.0  373.0      364.452162             2.530446\n",
              "12748.0         113.0    373.0  373.0      298.360885             2.575726\n",
              "14911.0         131.0    372.0  373.0     1093.661679             2.983024"
            ]
          },
          "metadata": {
            "tags": []
          },
          "execution_count": 22
        }
      ]
    },
    {
      "cell_type": "markdown",
      "metadata": {
        "id": "H7YQXDPC9tya"
      },
      "source": [
        "Listed above are our top 10 customers that the model expects them to make purchases in the next day. We can see that the customer who has made 131 purchases, and bought very recently from us, is probably going to buy again in the next period.\n",
        "\n",
        "\n",
        "The predicted_purchases column represents their expected number of purchases while the other three columns represent their current RF metrics. The BG/NBD model believes these individuals will be making more purchases within the near future as they are our current best customers.\n",
        "#### Assessing model fit\n",
        "So far, we can predict and we can visualize our customers’ behavior. Now let us assess the model’s correctness. The ﬁrst is to compare your data versus artiﬁcial data simulated with our ﬁtted model’s parameters.\n"
      ]
    },
    {
      "cell_type": "code",
      "metadata": {
        "id": "vlOuR2NN1ShT",
        "colab": {
          "base_uri": "https://localhost:8080/",
          "height": 326
        },
        "outputId": "e4c20779-8b99-4545-b800-3c6071891c4f"
      },
      "source": [
        "%%time \n",
        "\n",
        "from lifetimes.plotting import plot_period_transactions\n",
        "ax = plot_period_transactions(bgf, max_frequency=7)\n",
        "ax.set_yscale('log')\n",
        "sns.despine();"
      ],
      "execution_count": null,
      "outputs": [
        {
          "output_type": "stream",
          "text": [
            "CPU times: user 734 ms, sys: 925 µs, total: 735 ms\n",
            "Wall time: 738 ms\n"
          ],
          "name": "stdout"
        },
        {
          "output_type": "display_data",
          "data": {
            "image/png": "[encoded data removed]",
            "text/plain": [
              "<Figure size 432x288 with 1 Axes>"
            ]
          },
          "metadata": {
            "tags": []
          }
        }
      ]
    },
    {
      "cell_type": "markdown",
      "metadata": {
        "id": "bCX1tg8V9-gC"
      },
      "source": [
        "We can see that our actual data and our simulated data line up well. \n",
        "So, we can continue on with our analysis. We now partition the dataset into a calibration period dataset and a holdout dataset. This is important as we want to test how our model performs on data not yet seen (just like cross-validation in machine learning practice).\n",
        "\n",
        "### Example using transactional datasets\n",
        "Most often, the dataset you have at hand will be at the transaction level. Lifetimes has some utility functions to transform that transactional data (one row per purchase) into summary data (a frequency, recency and age dataset)."
      ]
    },
    {
      "cell_type": "code",
      "metadata": {
        "id": "IaXhDoQuo30q",
        "outputId": "d8f5b002-1d9c-4583-d555-4e8a342856b7",
        "colab": {
          "base_uri": "https://localhost:8080/",
          "height": 118
        }
      },
      "source": [
        "from lifetimes.datasets import load_transaction_data\n",
        "from lifetimes.utils import summary_data_from_transaction_data\n",
        "\n",
        "transaction_data = load_transaction_data()\n",
        "print(transaction_data.head())"
      ],
      "execution_count": null,
      "outputs": [
        {
          "output_type": "stream",
          "text": [
            "                  date  id\n",
            "0  2014-03-08 00:00:00   0\n",
            "1  2014-05-21 00:00:00   1\n",
            "2  2014-03-14 00:00:00   2\n",
            "3  2014-04-09 00:00:00   2\n",
            "4  2014-05-21 00:00:00   2\n"
          ],
          "name": "stdout"
        }
      ]
    },
    {
      "cell_type": "code",
      "metadata": {
        "id": "55hYuUmFpRra",
        "outputId": "96d3b583-b0ff-4c45-af6c-000c57c226ec",
        "colab": {
          "base_uri": "https://localhost:8080/",
          "height": 134
        }
      },
      "source": [
        "summary = summary_data_from_transaction_data(transaction_data, 'id', 'date', observation_period_end='2014-12-31')\n",
        "print(summary.head())"
      ],
      "execution_count": null,
      "outputs": [
        {
          "output_type": "stream",
          "text": [
            "    frequency  recency      T\n",
            "id                           \n",
            "0         0.0      0.0  298.0\n",
            "1         0.0      0.0  224.0\n",
            "2         6.0    142.0  292.0\n",
            "3         0.0      0.0  147.0\n",
            "4         2.0      9.0  183.0\n"
          ],
          "name": "stdout"
        }
      ]
    },
    {
      "cell_type": "code",
      "metadata": {
        "id": "LbMmhi0Gphwg",
        "outputId": "718ae4d8-2606-4a57-b4b2-84d1e3d0cd18",
        "colab": {
          "base_uri": "https://localhost:8080/",
          "height": 34
        }
      },
      "source": [
        "bgf.fit(summary['frequency'], summary['recency'], summary['T'])"
      ],
      "execution_count": null,
      "outputs": [
        {
          "output_type": "execute_result",
          "data": {
            "text/plain": [
              "<lifetimes.BetaGeoFitter: fitted with 5000 subjects, a: 1.85, alpha: 1.86, b: 3.18, r: 0.16>"
            ]
          },
          "metadata": {
            "tags": []
          },
          "execution_count": 25
        }
      ]
    },
    {
      "cell_type": "markdown",
      "metadata": {
        "id": "pRPW6kvYp9vy"
      },
      "source": [
        "### More model fitting\n",
        "With transactional data, we can partition the dataset into a calibration period dataset and a holdout dataset. This is important as we want to test how our model performs on data not yet seen (think cross-validation in standard machine learning literature)."
      ]
    },
    {
      "cell_type": "code",
      "metadata": {
        "id": "T7p8N8rt-CfM",
        "outputId": "0b303c0c-7504-4fe6-beaa-8015f8df6850",
        "colab": {
          "base_uri": "https://localhost:8080/",
          "height": 168
        }
      },
      "source": [
        "from lifetimes.utils import calibration_and_holdout_data\n",
        "pd.get_option(\"display.max_columns\")\n",
        "summary_cal_holdout = calibration_and_holdout_data(data, 'CustomerID', 'InvoiceDate',\n",
        "                                        calibration_period_end='2011-06-08',\n",
        "                                        observation_period_end='2011-12-9' )\n",
        "print(summary_cal_holdout.head())\n"
      ],
      "execution_count": null,
      "outputs": [
        {
          "output_type": "stream",
          "text": [
            "            frequency_cal  recency_cal  ...  frequency_holdout  duration_holdout\n",
            "CustomerID                              ...                                     \n",
            "12346.0               0.0          0.0  ...                0.0               184\n",
            "12347.0               2.0        121.0  ...                4.0               184\n",
            "12348.0               2.0        110.0  ...                1.0               184\n",
            "12350.0               0.0          0.0  ...                0.0               184\n",
            "12352.0               3.0         34.0  ...                3.0               184\n",
            "\n",
            "[5 rows x 5 columns]\n"
          ],
          "name": "stdout"
        }
      ]
    },
    {
      "cell_type": "markdown",
      "metadata": {
        "id": "R4TI77M4CkJw"
      },
      "source": [
        "With this dataset, we can perform ﬁtting on the _cal columns, and test on the _holdout columns:\n"
      ]
    },
    {
      "cell_type": "code",
      "metadata": {
        "id": "-SKJqvBVzr4d",
        "colab": {
          "base_uri": "https://localhost:8080/",
          "height": 329
        },
        "outputId": "15ca881a-f937-4937-b3cd-493ce636a615"
      },
      "source": [
        "%%time \n",
        "\n",
        "from lifetimes.plotting import plot_calibration_purchases_vs_holdout_purchases\n",
        "bgf.fit(summary_cal_holdout['frequency_cal'], summary_cal_holdout['recency_cal'], summary_cal_holdout['T_cal'])\n",
        "plot_calibration_purchases_vs_holdout_purchases(bgf, summary_cal_holdout)\n",
        "sns.despine();"
      ],
      "execution_count": null,
      "outputs": [
        {
          "output_type": "stream",
          "text": [
            "CPU times: user 540 ms, sys: 97.1 ms, total: 637 ms\n",
            "Wall time: 529 ms\n"
          ],
          "name": "stdout"
        },
        {
          "output_type": "display_data",
          "data": {
            "image/png": "[encoded data removed]",
            "text/plain": [
              "<Figure size 432x288 with 1 Axes>"
            ]
          },
          "metadata": {
            "tags": []
          }
        }
      ]
    },
    {
      "cell_type": "markdown",
      "metadata": {
        "id": "fkLLumWn-vYW"
      },
      "source": [
        "In this plot, we separate the data into both a in-sample (calibration) and validation (holdout) period. The sample period consists the beginning to 2011–06–08; the validation period spans from 2011–06–09 to 2011–12–09. The plot groups all customers in the calibration period by their number of repeat purchases (x-axis) and then averages over their repeat purchases in the holdout period (y-axis). The orange and blue line presents the model prediction and actual result of the y-axis respectively. As we can see, our model is able to predict the customer base’s behaviour out of the sample, the model under-estimates at 4 purchases and after 5 purchases.\n",
        "### Customer transactions predictions\n",
        "Based on customer history, we can now predict what an individual’s future purchases might look like:"
      ]
    },
    {
      "cell_type": "code",
      "metadata": {
        "id": "HuKErjyw-1GJ",
        "outputId": "5297536d-6256-483d-f758-2946af4329e0",
        "colab": {
          "base_uri": "https://localhost:8080/",
          "height": 34
        }
      },
      "source": [
        "t = 10 #predict purchases in 10 periods \n",
        "individual = df.loc[12347]\n",
        "# The below function is an alias to `bfg.conditional_expected_number_of_purchases_up_, to_time` \n",
        "bgf.predict(t, individual['frequency'], individual['recency'], individual['T'])"
      ],
      "execution_count": null,
      "outputs": [
        {
          "output_type": "execute_result",
          "data": {
            "text/plain": [
              "0.15727742663038222"
            ]
          },
          "metadata": {
            "tags": []
          },
          "execution_count": 52
        }
      ]
    },
    {
      "cell_type": "markdown",
      "metadata": {
        "id": "yLt_ac5U-9eB"
      },
      "source": [
        "Our model predicts that customer 12347’s future transaction is 0.157 in 10 days.\n",
        "#### Customer probability histories\n",
        "\n",
        "Given a customer transaction history, we can calculate their historical probability of being alive, according to our trained model. For example, we want to look at our best customer’s transactions history and see the probability of being alive:"
      ]
    },
    {
      "cell_type": "code",
      "metadata": {
        "id": "X358Hs__-n6u",
        "outputId": "bd3e5220-c544-4659-9395-73e52eda00e9",
        "colab": {
          "base_uri": "https://localhost:8080/",
          "height": 254
        }
      },
      "source": [
        "t = 1\n",
        "df['predicted_purchases'] = bgf.conditional_expected_number_of_purchases_up_to_time(t, df['frequency'], df['recency'], df['T'])\n",
        "best_projected_cust = df.sort_values('predicted_purchases').tail(6)\n",
        "df.sort_values(by='predicted_purchases').tail(6)"
      ],
      "execution_count": null,
      "outputs": [
        {
          "output_type": "execute_result",
          "data": {
            "text/html": [
              "<div>\n",
              "<style scoped>\n",
              "    .dataframe tbody tr th:only-of-type {\n",
              "        vertical-align: middle;\n",
              "    }\n",
              "\n",
              "    .dataframe tbody tr th {\n",
              "        vertical-align: top;\n",
              "    }\n",
              "\n",
              "    .dataframe thead th {\n",
              "        text-align: right;\n",
              "    }\n",
              "</style>\n",
              "<table border=\"1\" class=\"dataframe\">\n",
              "  <thead>\n",
              "    <tr style=\"text-align: right;\">\n",
              "      <th></th>\n",
              "      <th>frequency</th>\n",
              "      <th>recency</th>\n",
              "      <th>T</th>\n",
              "      <th>monetary_value</th>\n",
              "      <th>predicted_purchases</th>\n",
              "    </tr>\n",
              "    <tr>\n",
              "      <th>CustomerID</th>\n",
              "      <th></th>\n",
              "      <th></th>\n",
              "      <th></th>\n",
              "      <th></th>\n",
              "      <th></th>\n",
              "    </tr>\n",
              "  </thead>\n",
              "  <tbody>\n",
              "    <tr>\n",
              "      <th>12971.0</th>\n",
              "      <td>70.0</td>\n",
              "      <td>369.0</td>\n",
              "      <td>372.0</td>\n",
              "      <td>159.211286</td>\n",
              "      <td>0.163087</td>\n",
              "    </tr>\n",
              "    <tr>\n",
              "      <th>14606.0</th>\n",
              "      <td>88.0</td>\n",
              "      <td>372.0</td>\n",
              "      <td>373.0</td>\n",
              "      <td>135.890114</td>\n",
              "      <td>0.204112</td>\n",
              "    </tr>\n",
              "    <tr>\n",
              "      <th>15311.0</th>\n",
              "      <td>89.0</td>\n",
              "      <td>373.0</td>\n",
              "      <td>373.0</td>\n",
              "      <td>677.729438</td>\n",
              "      <td>0.206412</td>\n",
              "    </tr>\n",
              "    <tr>\n",
              "      <th>17841.0</th>\n",
              "      <td>111.0</td>\n",
              "      <td>372.0</td>\n",
              "      <td>373.0</td>\n",
              "      <td>364.452162</td>\n",
              "      <td>0.257012</td>\n",
              "    </tr>\n",
              "    <tr>\n",
              "      <th>12748.0</th>\n",
              "      <td>113.0</td>\n",
              "      <td>373.0</td>\n",
              "      <td>373.0</td>\n",
              "      <td>298.360885</td>\n",
              "      <td>0.261612</td>\n",
              "    </tr>\n",
              "    <tr>\n",
              "      <th>14911.0</th>\n",
              "      <td>131.0</td>\n",
              "      <td>372.0</td>\n",
              "      <td>373.0</td>\n",
              "      <td>1093.661679</td>\n",
              "      <td>0.303013</td>\n",
              "    </tr>\n",
              "  </tbody>\n",
              "</table>\n",
              "</div>"
            ],
            "text/plain": [
              "            frequency  recency      T  monetary_value  predicted_purchases\n",
              "CustomerID                                                                \n",
              "12971.0          70.0    369.0  372.0      159.211286             0.163087\n",
              "14606.0          88.0    372.0  373.0      135.890114             0.204112\n",
              "15311.0          89.0    373.0  373.0      677.729438             0.206412\n",
              "17841.0         111.0    372.0  373.0      364.452162             0.257012\n",
              "12748.0         113.0    373.0  373.0      298.360885             0.261612\n",
              "14911.0         131.0    372.0  373.0     1093.661679             0.303013"
            ]
          },
          "metadata": {
            "tags": []
          },
          "execution_count": 55
        }
      ]
    },
    {
      "cell_type": "code",
      "metadata": {
        "id": "mpvRGQWzqlHU",
        "outputId": "e954d112-4440-4378-9944-222b45e98de2",
        "colab": {
          "base_uri": "https://localhost:8080/",
          "height": 390
        }
      },
      "source": [
        "from lifetimes.plotting import plot_history_alive\n",
        "import matplotlib.pyplot as plt\n",
        "fig = plt.figure(figsize=(10,6))\n",
        "id = 14606\n",
        "days_since_birth = 365\n",
        "sp_trans = data.loc[data['CustomerID'] == id]\n",
        "plot_history_alive(bgf, days_since_birth, sp_trans, 'InvoiceDate')\n",
        "plt.show()"
      ],
      "execution_count": null,
      "outputs": [
        {
          "output_type": "display_data",
          "data": {
            "image/png": "[encoded data removed]",
            "text/plain": [
              "<Figure size 720x432 with 1 Axes>"
            ]
          },
          "metadata": {
            "tags": []
          }
        }
      ]
    },
    {
      "cell_type": "markdown",
      "metadata": {
        "id": "e0z047nxAiC-"
      },
      "source": [
        "As per this plot, our best customer is not alive. On the other hand, this customer had only purchased once and has dropped off for a long time with a 100% chance that he is dead.\n",
        "## Estimating customer lifetime value using gamma-gamma model of monetary value\n",
        "So far, we didn’t take into account the economic value of each transaction and we focused mainly on transactions’ occurrences. To estimate this we can use the Gamma-Gamma submodel. But ﬁrst we need to create summary data from transactional data also containing economic values for each transaction (i.e. proﬁts or revenues). \n",
        "\n",
        "As we are aware by now that, to create a summary dataset which contains information about every customer. We can use the summary_data_from_transaction_data function to generate a summary data frame.\n",
        "\n",
        "The result contains four columns:\n",
        "\n",
        "- recency — the time between the first and the last transaction\n",
        "\n",
        "- frequency — the number of purchases beyond the initial one\n",
        "\n",
        "- T — the time between the first purchase and the end of the calibration period\n",
        "\n",
        "- monetary value — the arithmetic mean of customer’s transactions in the calibration period\n",
        "\n",
        "\n",
        "If we have some customers who did not buy anything in the calibration period and their monetary value in the summary dataset is zero, we must remove them. After that we can build the model. We are only estimating the customers who had at least one repeat purchase with us. Therefore, we are estimating for 2,790 customers."
      ]
    },
    {
      "cell_type": "code",
      "metadata": {
        "id": "7xHqyLC1Aniw",
        "outputId": "5a5e236f-9b23-4b2e-f486-f07ed9082ef3",
        "colab": {
          "base_uri": "https://localhost:8080/",
          "height": 202
        }
      },
      "source": [
        "summary = df[df['frequency']>0]\n",
        "print(summary.head())\n",
        "print()\n",
        "print('\\nCustomers with atleast 1 repeat purchase\\n', len(summary))"
      ],
      "execution_count": null,
      "outputs": [
        {
          "output_type": "stream",
          "text": [
            "            frequency  recency      T  monetary_value  predicted_purchases\n",
            "CustomerID                                                                \n",
            "12347.0           6.0    365.0  367.0      599.701667             0.015728\n",
            "12348.0           3.0    283.0  358.0      301.480000             0.008918\n",
            "12352.0           6.0    260.0  296.0      368.256667             0.018849\n",
            "12356.0           2.0    303.0  325.0      269.905000             0.007094\n",
            "12358.0           1.0    149.0  150.0      683.200000             0.008234\n",
            "\n",
            "\n",
            "Customers with atleast 1 repeat purchase\n",
            " 2790\n"
          ],
          "name": "stdout"
        }
      ]
    },
    {
      "cell_type": "markdown",
      "metadata": {
        "id": "mbhc8zYTrz5h"
      },
      "source": [
        "### The Gamma-Gamma model and the independence assumption\n",
        "\n",
        "\n",
        "Gamma-Gamma model is based on the assumption that the number of transactions does not depend on their monetary value. The frequency and monetary value are not correlated if the output is close to zero. The Gamma-Gamma submodel, in fact, assumes that there is no relationship between the monetary value and the purchase frequency. In practice we need to check whether the Pearson correlation between the two vectors is close to 0 in order to use this model."
      ]
    },
    {
      "cell_type": "code",
      "metadata": {
        "id": "pgqX_rrOsH8x",
        "outputId": "53bfb7df-9ade-471f-c159-effc3feccdbf",
        "colab": {
          "base_uri": "https://localhost:8080/",
          "height": 106
        }
      },
      "source": [
        "summary[['monetary_value', 'frequency']].corr()"
      ],
      "execution_count": null,
      "outputs": [
        {
          "output_type": "execute_result",
          "data": {
            "text/html": [
              "<div>\n",
              "<style scoped>\n",
              "    .dataframe tbody tr th:only-of-type {\n",
              "        vertical-align: middle;\n",
              "    }\n",
              "\n",
              "    .dataframe tbody tr th {\n",
              "        vertical-align: top;\n",
              "    }\n",
              "\n",
              "    .dataframe thead th {\n",
              "        text-align: right;\n",
              "    }\n",
              "</style>\n",
              "<table border=\"1\" class=\"dataframe\">\n",
              "  <thead>\n",
              "    <tr style=\"text-align: right;\">\n",
              "      <th></th>\n",
              "      <th>monetary_value</th>\n",
              "      <th>frequency</th>\n",
              "    </tr>\n",
              "  </thead>\n",
              "  <tbody>\n",
              "    <tr>\n",
              "      <th>monetary_value</th>\n",
              "      <td>1.000000</td>\n",
              "      <td>0.015882</td>\n",
              "    </tr>\n",
              "    <tr>\n",
              "      <th>frequency</th>\n",
              "      <td>0.015882</td>\n",
              "      <td>1.000000</td>\n",
              "    </tr>\n",
              "  </tbody>\n",
              "</table>\n",
              "</div>"
            ],
            "text/plain": [
              "                monetary_value  frequency\n",
              "monetary_value        1.000000   0.015882\n",
              "frequency             0.015882   1.000000"
            ]
          },
          "metadata": {
            "tags": []
          },
          "execution_count": 80
        }
      ]
    },
    {
      "cell_type": "markdown",
      "metadata": {
        "id": "YKcWPZhHsdSx"
      },
      "source": [
        "It seems that we can use the summary to estimate CLTV. We can train our Gamma-Gamma submodel and predict the conditional, expected average lifetime value of our customers.\n"
      ]
    },
    {
      "cell_type": "code",
      "metadata": {
        "id": "HOhqNePKAzkz",
        "outputId": "9f1eff87-4c34-4519-a718-87ed109edcf7",
        "colab": {
          "base_uri": "https://localhost:8080/",
          "height": 34
        }
      },
      "source": [
        "from lifetimes import GammaGammaFitter\n",
        "ggf = GammaGammaFitter(penalizer_coef = 0)\n",
        "ggf.fit(summary['frequency'],\n",
        "        summary['monetary_value'])\n",
        "print(ggf)"
      ],
      "execution_count": null,
      "outputs": [
        {
          "output_type": "stream",
          "text": [
            "<lifetimes.GammaGammaFitter: fitted with 2790 subjects, p: 2.10, q: 3.45, v: 485.57>\n"
          ],
          "name": "stdout"
        }
      ]
    },
    {
      "cell_type": "markdown",
      "metadata": {
        "id": "u78iV52kA5FF"
      },
      "source": [
        "After applying Gamma-Gamma model, now we can estimate average transaction value for each customer. "
      ]
    },
    {
      "cell_type": "code",
      "metadata": {
        "id": "pA66ZCp0A8Kp",
        "outputId": "67e80dee-d265-43b5-9836-24909d011ce2",
        "colab": {
          "base_uri": "https://localhost:8080/",
          "height": 218
        }
      },
      "source": [
        "print(ggf.conditional_expected_average_profit(\n",
        "        summary['frequency'],\n",
        "        summary['monetary_value']\n",
        "    ).head(10))"
      ],
      "execution_count": null,
      "outputs": [
        {
          "output_type": "stream",
          "text": [
            "CustomerID\n",
            "12347.0     569.988807\n",
            "12348.0     333.762672\n",
            "12352.0     376.166864\n",
            "12356.0     324.008941\n",
            "12358.0     539.930643\n",
            "12359.0    1515.282839\n",
            "12360.0     652.217077\n",
            "12362.0     514.793066\n",
            "12363.0     341.147333\n",
            "12364.0     282.075487\n",
            "dtype: float64\n"
          ],
          "name": "stdout"
        }
      ]
    },
    {
      "cell_type": "code",
      "metadata": {
        "id": "7y6QrkLdspUT",
        "outputId": "fb7bf0bb-7611-46ad-c8b4-02b1489cde7c",
        "colab": {
          "base_uri": "https://localhost:8080/",
          "height": 34
        }
      },
      "source": [
        "print(\"Expected conditional average profit: %s, Average profit: %s\" % (\n",
        "    ggf.conditional_expected_average_profit(\n",
        "        summary['frequency'],\n",
        "        summary['monetary_value']\n",
        "    ).mean(),\n",
        "    summary[summary['frequency']>0]['monetary_value'].mean()\n",
        "))"
      ],
      "execution_count": null,
      "outputs": [
        {
          "output_type": "stream",
          "text": [
            "Expected conditional average profit: 454.5701345329117, Average profit: 477.3586892535673\n"
          ],
          "name": "stdout"
        }
      ]
    },
    {
      "cell_type": "markdown",
      "metadata": {
        "id": "_rw-1WIqLzQU"
      },
      "source": [
        "While for computing the total CLV using the DCF method (https://en.wikipedia.org/wiki/Discounted_cash_ﬂow) adjusting for cost of capital:\n"
      ]
    },
    {
      "cell_type": "code",
      "metadata": {
        "id": "kHRI5NbTvRFD",
        "outputId": "4f396d89-10d0-4578-aee1-e128e7f73dd5",
        "colab": {
          "base_uri": "https://localhost:8080/",
          "height": 218
        }
      },
      "source": [
        "# refit the BG model to the summary_with_money_value dataset \n",
        "bgf.fit(summary['frequency'], summary['recency'], summary['T'])\n",
        "print(ggf.customer_lifetime_value( \n",
        "    bgf, #the model to use to predict the number of future transactions \n",
        "    summary['frequency'], \n",
        "    summary['recency'], \n",
        "    summary['T'], \n",
        "    summary['monetary_value'], time=12, # months \n",
        "    discount_rate=0.01 # monthly discount rate ~ 12.7% annually \n",
        ").head(10)) "
      ],
      "execution_count": null,
      "outputs": [
        {
          "output_type": "stream",
          "text": [
            "CustomerID\n",
            "12347.0    3194.513170\n",
            "12348.0    1175.855526\n",
            "12352.0    2472.111340\n",
            "12356.0     979.101318\n",
            "12358.0    1940.994582\n",
            "12359.0    5674.015130\n",
            "12360.0    2746.453102\n",
            "12362.0    4685.591048\n",
            "12363.0     821.426335\n",
            "12364.0    2104.274609\n",
            "Name: clv, dtype: float64\n"
          ],
          "name": "stdout"
        }
      ]
    },
    {
      "cell_type": "markdown",
      "metadata": {
        "id": "3WryfKEqMtBv"
      },
      "source": [
        "## Saving and loading model\n",
        "When we have  lots of data and training takes a lot of time option with saving and loading model could be useful. First we need to ﬁt the model, then save it and load.\n",
        "\n",
        "### Fit model\n",
        "\n"
      ]
    },
    {
      "cell_type": "code",
      "metadata": {
        "id": "D0j4B-edNJQI",
        "outputId": "febd36b4-a93e-4722-98b8-0f0fca149077",
        "colab": {
          "base_uri": "https://localhost:8080/",
          "height": 34
        }
      },
      "source": [
        "from lifetimes import BetaGeoFitter \n",
        "from lifetimes.datasets import load_cdnow_summary\n",
        "data = load_cdnow_summary(index_col=[0]) \n",
        "bgf = BetaGeoFitter() \n",
        "bgf.fit(summary['frequency'], summary['recency'], summary['T']) \n",
        "bgf "
      ],
      "execution_count": null,
      "outputs": [
        {
          "output_type": "execute_result",
          "data": {
            "text/plain": [
              "<lifetimes.BetaGeoFitter: fitted with 2790 subjects, a: 0.01, alpha: 108.89, b: 0.16, r: 1.94>"
            ]
          },
          "metadata": {
            "tags": []
          },
          "execution_count": 85
        }
      ]
    },
    {
      "cell_type": "markdown",
      "metadata": {
        "id": "HVj97QeENced"
      },
      "source": [
        "### Saving model\n",
        "Model will be saved with dill to pickle object. Optional parameters save_data and save_generate_data_method are present to reduce ﬁnal pickle object size for big dataframes. Optional parameters: \n",
        "- save_data is used for saving data from model or not (default: True). \n",
        "- save_generate_data_method is used for saving generate_new_data method from model or not (default: True)\n"
      ]
    },
    {
      "cell_type": "code",
      "metadata": {
        "id": "TKq-ttG5NrN9"
      },
      "source": [
        "bgf.save_model('bgf.pkl')\n"
      ],
      "execution_count": null,
      "outputs": []
    },
    {
      "cell_type": "markdown",
      "metadata": {
        "id": "p5PJyjk-N2B2"
      },
      "source": [
        "### Loading model\n",
        "Before loading we should initialize the model ﬁrst and then use method load_model\n"
      ]
    },
    {
      "cell_type": "code",
      "metadata": {
        "id": "VOcoBA4LN5Mh",
        "outputId": "366f973e-f7a6-471d-e39c-1f7b122326ad",
        "colab": {
          "base_uri": "https://localhost:8080/",
          "height": 34
        }
      },
      "source": [
        "bgf_loaded = BetaGeoFitter() \n",
        "bgf_loaded.load_model('bgf.pkl') \n",
        "bgf_loaded "
      ],
      "execution_count": null,
      "outputs": [
        {
          "output_type": "execute_result",
          "data": {
            "text/plain": [
              "<lifetimes.BetaGeoFitter: fitted with 4339 subjects, a: 0.00, alpha: 68.89, b: 6.75, r: 0.83>"
            ]
          },
          "metadata": {
            "tags": []
          },
          "execution_count": 77
        }
      ]
    }
  ]
}